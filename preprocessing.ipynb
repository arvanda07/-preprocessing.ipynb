{
  "nbformat": 4,
  "nbformat_minor": 0,
  "metadata": {
    "colab": {
      "name": "preprocessing.ipynb",
      "provenance": []
    },
    "kernelspec": {
      "name": "python3",
      "display_name": "Python 3"
    }
  },
  "cells": [
    {
      "cell_type": "markdown",
      "metadata": {
        "id": "Ot1TbWGgi2C9"
      },
      "source": [
        "Importing the Libraries"
      ]
    },
    {
      "cell_type": "code",
      "metadata": {
        "id": "z133h4Xqzry-"
      },
      "source": [
        "import numpy as np\n",
        "import matplotlib.pyplot as plt\n",
        "import pandas as pd"
      ],
      "execution_count": 1,
      "outputs": []
    },
    {
      "cell_type": "markdown",
      "metadata": {
        "id": "41Hr9dxRi8wj"
      },
      "source": [
        "Importing the Dataset"
      ]
    },
    {
      "cell_type": "code",
      "metadata": {
        "id": "rJUk2X_VjCAT"
      },
      "source": [
        "dataset = pd.read_csv('Data.csv')\n",
        "x = dataset.iloc[:, :-1].values\n",
        "y = dataset.iloc[:, -1].values"
      ],
      "execution_count": 2,
      "outputs": []
    },
    {
      "cell_type": "markdown",
      "metadata": {
        "id": "91M_zQMjkFfi"
      },
      "source": [
        "Tampilkan x"
      ]
    },
    {
      "cell_type": "code",
      "metadata": {
        "colab": {
          "base_uri": "https://localhost:8080/"
        },
        "id": "hEU6wasgj_Si",
        "outputId": "02e25569-0401-4833-a5f6-3ed676ecee03"
      },
      "source": [
        "print(x)"
      ],
      "execution_count": 3,
      "outputs": [
        {
          "output_type": "stream",
          "text": [
            "[['Samsung' 100.0 100000.0]\n",
            " ['Vivo' 80.0 80000.0]\n",
            " ['Xiaomi' 150.0 70000.0]\n",
            " ['Vivo' 75.0 90000.0]\n",
            " ['Oppo' 90.0 95000.0]\n",
            " ['Xiaomi' 115.0 nan]\n",
            " ['Samsung' 130.0 110000.0]\n",
            " ['Oppo' nan 85000.0]\n",
            " ['Xiaomi' 95.0 65000.0]\n",
            " ['Vivo' 85.0 85000.0]\n",
            " ['Samsung' nan 90000.0]\n",
            " ['Oppo' 70.0 95000.0]\n",
            " ['Xiaomi' 90.0 100000.0]\n",
            " ['Samsung' 110.0 nan]\n",
            " ['Vivo' 90.0 80000.0]]\n"
          ],
          "name": "stdout"
        }
      ]
    },
    {
      "cell_type": "code",
      "metadata": {
        "colab": {
          "base_uri": "https://localhost:8080/"
        },
        "id": "WuL53wwIkDOy",
        "outputId": "37617be2-f31f-46b1-cf13-31f4b5da7981"
      },
      "source": [
        "print(y)"
      ],
      "execution_count": 4,
      "outputs": [
        {
          "output_type": "stream",
          "text": [
            "['No' 'Yes' 'No' 'No' 'Yes' 'Yes' 'No' 'Yes' 'No' 'Yes' 'No' 'Yes' 'No'\n",
            " 'Yes' 'No']\n"
          ],
          "name": "stdout"
        }
      ]
    },
    {
      "cell_type": "markdown",
      "metadata": {
        "id": "gQDQKUqEjVwL"
      },
      "source": [
        "Splitting the Dataset Into the Training set and Test set"
      ]
    },
    {
      "cell_type": "code",
      "metadata": {
        "id": "RWmjc4fUjgAy"
      },
      "source": [
        "from sklearn.model_selection import train_test_split\n",
        "x_train, x_test, y_train, y_test = train_test_split(x, y, test_size = 0.2,  random_state = 0)"
      ],
      "execution_count": 5,
      "outputs": []
    },
    {
      "cell_type": "markdown",
      "metadata": {
        "id": "3r890f-Dkygk"
      },
      "source": [
        "Menghilangkan Missing Value (nan)"
      ]
    },
    {
      "cell_type": "code",
      "metadata": {
        "id": "HMrV1NDHk2ua"
      },
      "source": [
        "from sklearn.impute import SimpleImputer\n",
        "imputer = SimpleImputer(missing_values=np.nan, strategy='mean')\n",
        "imputer.fit(x[:, 1:3])\n",
        "x[:, 1:3] = imputer.transform(x[:, 1:3])"
      ],
      "execution_count": 6,
      "outputs": []
    },
    {
      "cell_type": "markdown",
      "metadata": {
        "id": "EsvZkg5yljsz"
      },
      "source": [
        "Tampilkan x"
      ]
    },
    {
      "cell_type": "code",
      "metadata": {
        "colab": {
          "base_uri": "https://localhost:8080/"
        },
        "id": "C5Mlm7XQllZ5",
        "outputId": "03e83816-3bb5-40ba-939c-5a8058757891"
      },
      "source": [
        "print(x)"
      ],
      "execution_count": 7,
      "outputs": [
        {
          "output_type": "stream",
          "text": [
            "[['Samsung' 100.0 100000.0]\n",
            " ['Vivo' 80.0 80000.0]\n",
            " ['Xiaomi' 150.0 70000.0]\n",
            " ['Vivo' 75.0 90000.0]\n",
            " ['Oppo' 90.0 95000.0]\n",
            " ['Xiaomi' 115.0 88076.92307692308]\n",
            " ['Samsung' 130.0 110000.0]\n",
            " ['Oppo' 98.46153846153847 85000.0]\n",
            " ['Xiaomi' 95.0 65000.0]\n",
            " ['Vivo' 85.0 85000.0]\n",
            " ['Samsung' 98.46153846153847 90000.0]\n",
            " ['Oppo' 70.0 95000.0]\n",
            " ['Xiaomi' 90.0 100000.0]\n",
            " ['Samsung' 110.0 88076.92307692308]\n",
            " ['Vivo' 90.0 80000.0]]\n"
          ],
          "name": "stdout"
        }
      ]
    },
    {
      "cell_type": "markdown",
      "metadata": {
        "id": "Y0nMEvavlwob"
      },
      "source": [
        "Encoding Data Kategori (Atribut)"
      ]
    },
    {
      "cell_type": "code",
      "metadata": {
        "id": "hv4kPWfwl2iK"
      },
      "source": [
        "from sklearn.compose import ColumnTransformer\n",
        "from sklearn.preprocessing import  OneHotEncoder\n",
        "ct = ColumnTransformer(transformers=[('encoder', OneHotEncoder(), [0])], remainder='passthrough')\n",
        "x = np.array(ct.fit_transform(x))"
      ],
      "execution_count": 8,
      "outputs": []
    },
    {
      "cell_type": "markdown",
      "metadata": {
        "id": "9065wvt1JGl9"
      },
      "source": [
        "Encoding Data Kategori (Class/Label)"
      ]
    },
    {
      "cell_type": "code",
      "metadata": {
        "id": "fvzQF6WFJYQw"
      },
      "source": [
        "from sklearn.preprocessing import LabelEncoder\n",
        "le = LabelEncoder()\n",
        "y = le.fit_transform(y)"
      ],
      "execution_count": 9,
      "outputs": []
    },
    {
      "cell_type": "markdown",
      "metadata": {
        "id": "gv25FLRcKBBi"
      },
      "source": [
        "Tampilkan y"
      ]
    },
    {
      "cell_type": "code",
      "metadata": {
        "colab": {
          "base_uri": "https://localhost:8080/"
        },
        "id": "KhdkZxeHKEJa",
        "outputId": "2845699d-7f6c-4a6d-ee01-4195616abfd1"
      },
      "source": [
        "print(y)"
      ],
      "execution_count": 10,
      "outputs": [
        {
          "output_type": "stream",
          "text": [
            "[0 1 0 0 1 1 0 1 0 1 0 1 0 1 0]\n"
          ],
          "name": "stdout"
        }
      ]
    },
    {
      "cell_type": "markdown",
      "metadata": {
        "id": "C1IbWPaLKtyG"
      },
      "source": [
        "Membagi Dataset ke Dalam Training set dan test set"
      ]
    },
    {
      "cell_type": "code",
      "metadata": {
        "id": "Z9bRHiLhKx5r"
      },
      "source": [
        "from sklearn.model_selection import train_test_split\n",
        "x_train, x_test , y_train, y_test = train_test_split(x, y, test_size = 0.2, random_state = 1)"
      ],
      "execution_count": 11,
      "outputs": []
    },
    {
      "cell_type": "markdown",
      "metadata": {
        "id": "Hw00SiWMLV6a"
      },
      "source": [
        "Tampilan"
      ]
    },
    {
      "cell_type": "code",
      "metadata": {
        "colab": {
          "base_uri": "https://localhost:8080/"
        },
        "id": "qwmz4lsnLbI0",
        "outputId": "c20bcd7f-cabf-4dea-c8cd-c0cb42ebbff5"
      },
      "source": [
        "print(x_train)"
      ],
      "execution_count": 12,
      "outputs": [
        {
          "output_type": "stream",
          "text": [
            "[[0.0 0.0 0.0 1.0 150.0 70000.0]\n",
            " [0.0 1.0 0.0 0.0 98.46153846153847 90000.0]\n",
            " [1.0 0.0 0.0 0.0 90.0 95000.0]\n",
            " [0.0 0.0 1.0 0.0 80.0 80000.0]\n",
            " [0.0 1.0 0.0 0.0 110.0 88076.92307692308]\n",
            " [0.0 1.0 0.0 0.0 100.0 100000.0]\n",
            " [0.0 0.0 1.0 0.0 90.0 80000.0]\n",
            " [0.0 0.0 1.0 0.0 85.0 85000.0]\n",
            " [0.0 0.0 0.0 1.0 95.0 65000.0]\n",
            " [0.0 0.0 0.0 1.0 90.0 100000.0]\n",
            " [1.0 0.0 0.0 0.0 70.0 95000.0]\n",
            " [0.0 0.0 0.0 1.0 115.0 88076.92307692308]]\n"
          ],
          "name": "stdout"
        }
      ]
    },
    {
      "cell_type": "code",
      "metadata": {
        "colab": {
          "base_uri": "https://localhost:8080/"
        },
        "id": "uVr58JEdLm4E",
        "outputId": "470ad066-a47d-4413-8210-932ee9170ec9"
      },
      "source": [
        "print(x_test)"
      ],
      "execution_count": 13,
      "outputs": [
        {
          "output_type": "stream",
          "text": [
            "[[0.0 0.0 1.0 0.0 75.0 90000.0]\n",
            " [1.0 0.0 0.0 0.0 98.46153846153847 85000.0]\n",
            " [0.0 1.0 0.0 0.0 130.0 110000.0]]\n"
          ],
          "name": "stdout"
        }
      ]
    },
    {
      "cell_type": "code",
      "metadata": {
        "colab": {
          "base_uri": "https://localhost:8080/"
        },
        "id": "WR3hIHx6LqxP",
        "outputId": "3397815e-f21a-4e48-b363-1c1a3c2c88c4"
      },
      "source": [
        "print(y_train)"
      ],
      "execution_count": 14,
      "outputs": [
        {
          "output_type": "stream",
          "text": [
            "[0 0 1 1 1 0 0 1 0 0 1 1]\n"
          ],
          "name": "stdout"
        }
      ]
    },
    {
      "cell_type": "code",
      "metadata": {
        "colab": {
          "base_uri": "https://localhost:8080/"
        },
        "id": "zyWRmCxILxXq",
        "outputId": "3cfffced-e1eb-4cd3-9fd2-fbbf46aa9d4e"
      },
      "source": [
        "print(y_test)"
      ],
      "execution_count": 15,
      "outputs": [
        {
          "output_type": "stream",
          "text": [
            "[0 1 0]\n"
          ],
          "name": "stdout"
        }
      ]
    },
    {
      "cell_type": "markdown",
      "metadata": {
        "id": "sSp0dXcFL0du"
      },
      "source": [
        "Feature Scaling"
      ]
    },
    {
      "cell_type": "code",
      "metadata": {
        "id": "HkckRYIbL2m4"
      },
      "source": [
        "from sklearn.preprocessing import StandardScaler\n",
        "sc = StandardScaler()\n",
        "x_train[:, 3:] = sc.fit_transform(x_train[:, 3:])\n",
        "x_test[:, 3:] = sc.transform(x_test[:, 3:])"
      ],
      "execution_count": 16,
      "outputs": []
    },
    {
      "cell_type": "markdown",
      "metadata": {
        "id": "Fj8vbWOVMbPv"
      },
      "source": [
        "Tampilan"
      ]
    },
    {
      "cell_type": "code",
      "metadata": {
        "colab": {
          "base_uri": "https://localhost:8080/"
        },
        "id": "e9rI_EIfMqO2",
        "outputId": "e4442b26-2e37-4cef-9d99-c77184454177"
      },
      "source": [
        "print(x_train)"
      ],
      "execution_count": 17,
      "outputs": [
        {
          "output_type": "stream",
          "text": [
            "[[0.0 0.0 0.0 1.4142135623730951 2.661327752622985 -1.5427369619993432]\n",
            " [0.0 1.0 0.0 -0.7071067811865475 0.0343080925752501 0.34484708562338284]\n",
            " [1.0 0.0 0.0 -0.7071067811865475 -0.39699364265646786 0.8167430975290644]\n",
            " [0.0 0.0 1.0 -0.7071067811865475 -0.9067138752030434 -0.5989449381879801]\n",
            " [0.0 1.0 0.0 -0.7071067811865475 0.622446822436683 0.16334861950581314]\n",
            " [0.0 1.0 0.0 -0.7071067811865475 0.11272658989010759 1.2886391094347458]\n",
            " [0.0 0.0 1.0 -0.7071067811865475 -0.39699364265646786\n",
            "  -0.5989449381879801]\n",
            " [0.0 0.0 1.0 -0.7071067811865475 -0.6518537589297556\n",
            "  -0.12704892628229866]\n",
            " [0.0 0.0 0.0 1.4142135623730951 -0.14213352638318014 -2.0146329739050244]\n",
            " [0.0 0.0 0.0 1.4142135623730951 -0.39699364265646786 1.2886391094347458]\n",
            " [1.0 0.0 0.0 -0.7071067811865475 -1.4164341077496188 0.8167430975290644]\n",
            " [0.0 0.0 0.0 1.4142135623730951 0.8773069387099708 0.16334861950581314]]\n"
          ],
          "name": "stdout"
        }
      ]
    },
    {
      "cell_type": "code",
      "metadata": {
        "colab": {
          "base_uri": "https://localhost:8080/"
        },
        "id": "MBPk_t_PMcPD",
        "outputId": "302984aa-5b1c-455c-d39f-dd9052a12c52"
      },
      "source": [
        "print(x_test)"
      ],
      "execution_count": 18,
      "outputs": [
        {
          "output_type": "stream",
          "text": [
            "[[0.0 0.0 1.0 -0.7071067811865475 -1.161573991476331 0.34484708562338284]\n",
            " [1.0 0.0 0.0 -0.7071067811865475 0.0343080925752501 -0.12704892628229866]\n",
            " [0.0 1.0 0.0 -0.7071067811865475 1.641887287529834 2.232431133246109]]\n"
          ],
          "name": "stdout"
        }
      ]
    }
  ]
}