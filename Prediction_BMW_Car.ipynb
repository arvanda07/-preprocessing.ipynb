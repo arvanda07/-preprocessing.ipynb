{
  "nbformat": 4,
  "nbformat_minor": 0,
  "metadata": {
    "colab": {
      "name": "Prediction_BMW_Car.ipynb",
      "provenance": [],
      "collapsed_sections": [],
      "authorship_tag": "ABX9TyPN2Jr9Q8OxPqCK0Oh4gx+Q",
      "include_colab_link": true
    },
    "kernelspec": {
      "name": "python3",
      "display_name": "Python 3"
    },
    "language_info": {
      "name": "python"
    }
  },
  "cells": [
    {
      "cell_type": "markdown",
      "metadata": {
        "id": "view-in-github",
        "colab_type": "text"
      },
      "source": [
        "<a href=\"https://colab.research.google.com/github/arvanda07/-preprocessing.ipynb/blob/main/Prediction_BMW_Car.ipynb\" target=\"_parent\"><img src=\"https://colab.research.google.com/assets/colab-badge.svg\" alt=\"Open In Colab\"/></a>"
      ]
    },
    {
      "cell_type": "markdown",
      "metadata": {
        "id": "3n0CM6tBI3PS"
      },
      "source": [
        "Nama     : Arvanda Haryanto Saputra\n",
        "NIM      : A11.2018.11195\n",
        "Kelompok : A11.4618"
      ]
    },
    {
      "cell_type": "code",
      "metadata": {
        "id": "gWeRGHPmIbpE"
      },
      "source": [
        "import numpy as np\n",
        "import matplotlib.pyplot as plt\n",
        "import pandas as pd\n",
        "import sklearn.metrics as metrics"
      ],
      "execution_count": 5,
      "outputs": []
    },
    {
      "cell_type": "code",
      "metadata": {
        "colab": {
          "base_uri": "https://localhost:8080/"
        },
        "id": "Lji9kGoNJBkO",
        "outputId": "b5f6a695-a744-4c2e-baf5-10b4d66eb386"
      },
      "source": [
        "dataset = pd.read_csv(\"Dataset_Prediksi_BMW.csv\")\n",
        "dataset.shape"
      ],
      "execution_count": 6,
      "outputs": [
        {
          "output_type": "execute_result",
          "data": {
            "text/plain": [
              "(1000, 9)"
            ]
          },
          "metadata": {
            "tags": []
          },
          "execution_count": 6
        }
      ]
    },
    {
      "cell_type": "code",
      "metadata": {
        "colab": {
          "base_uri": "https://localhost:8080/",
          "height": 202
        },
        "id": "pDrH5zedRYE_",
        "outputId": "e5ae7154-797b-4917-f7f4-7b91dd8fff65"
      },
      "source": [
        "dataset.head()"
      ],
      "execution_count": 7,
      "outputs": [
        {
          "output_type": "execute_result",
          "data": {
            "text/html": [
              "<div>\n",
              "<style scoped>\n",
              "    .dataframe tbody tr th:only-of-type {\n",
              "        vertical-align: middle;\n",
              "    }\n",
              "\n",
              "    .dataframe tbody tr th {\n",
              "        vertical-align: top;\n",
              "    }\n",
              "\n",
              "    .dataframe thead th {\n",
              "        text-align: right;\n",
              "    }\n",
              "</style>\n",
              "<table border=\"1\" class=\"dataframe\">\n",
              "  <thead>\n",
              "    <tr style=\"text-align: right;\">\n",
              "      <th></th>\n",
              "      <th>model</th>\n",
              "      <th>year</th>\n",
              "      <th>price</th>\n",
              "      <th>engineSize</th>\n",
              "      <th>mileage</th>\n",
              "      <th>fuelType</th>\n",
              "      <th>tax</th>\n",
              "      <th>mpg</th>\n",
              "      <th>transmission</th>\n",
              "    </tr>\n",
              "  </thead>\n",
              "  <tbody>\n",
              "    <tr>\n",
              "      <th>0</th>\n",
              "      <td>5 Series</td>\n",
              "      <td>2014</td>\n",
              "      <td>11200</td>\n",
              "      <td>2.0</td>\n",
              "      <td>67068</td>\n",
              "      <td>Diesel</td>\n",
              "      <td>125</td>\n",
              "      <td>57.6</td>\n",
              "      <td>1</td>\n",
              "    </tr>\n",
              "    <tr>\n",
              "      <th>1</th>\n",
              "      <td>6 Series</td>\n",
              "      <td>2018</td>\n",
              "      <td>27000</td>\n",
              "      <td>2.0</td>\n",
              "      <td>14827</td>\n",
              "      <td>Petrol</td>\n",
              "      <td>145</td>\n",
              "      <td>42.8</td>\n",
              "      <td>1</td>\n",
              "    </tr>\n",
              "    <tr>\n",
              "      <th>2</th>\n",
              "      <td>5 Series</td>\n",
              "      <td>2016</td>\n",
              "      <td>16000</td>\n",
              "      <td>3.0</td>\n",
              "      <td>62794</td>\n",
              "      <td>Diesel</td>\n",
              "      <td>160</td>\n",
              "      <td>51.4</td>\n",
              "      <td>1</td>\n",
              "    </tr>\n",
              "    <tr>\n",
              "      <th>3</th>\n",
              "      <td>1 Series</td>\n",
              "      <td>2017</td>\n",
              "      <td>12750</td>\n",
              "      <td>1.5</td>\n",
              "      <td>26676</td>\n",
              "      <td>Diesel</td>\n",
              "      <td>145</td>\n",
              "      <td>72.4</td>\n",
              "      <td>1</td>\n",
              "    </tr>\n",
              "    <tr>\n",
              "      <th>4</th>\n",
              "      <td>7 Series</td>\n",
              "      <td>2014</td>\n",
              "      <td>14500</td>\n",
              "      <td>3.0</td>\n",
              "      <td>39554</td>\n",
              "      <td>Diesel</td>\n",
              "      <td>160</td>\n",
              "      <td>50.4</td>\n",
              "      <td>1</td>\n",
              "    </tr>\n",
              "  </tbody>\n",
              "</table>\n",
              "</div>"
            ],
            "text/plain": [
              "       model  year  price  engineSize  ...  fuelType  tax   mpg  transmission\n",
              "0   5 Series  2014  11200         2.0  ...    Diesel  125  57.6             1\n",
              "1   6 Series  2018  27000         2.0  ...    Petrol  145  42.8             1\n",
              "2   5 Series  2016  16000         3.0  ...    Diesel  160  51.4             1\n",
              "3   1 Series  2017  12750         1.5  ...    Diesel  145  72.4             1\n",
              "4   7 Series  2014  14500         3.0  ...    Diesel  160  50.4             1\n",
              "\n",
              "[5 rows x 9 columns]"
            ]
          },
          "metadata": {
            "tags": []
          },
          "execution_count": 7
        }
      ]
    },
    {
      "cell_type": "code",
      "metadata": {
        "colab": {
          "base_uri": "https://localhost:8080/",
          "height": 294
        },
        "id": "iy0d3No-R3WF",
        "outputId": "eba2727e-e8fb-441d-cbd4-98067c001098"
      },
      "source": [
        "dataset.describe()"
      ],
      "execution_count": 8,
      "outputs": [
        {
          "output_type": "execute_result",
          "data": {
            "text/html": [
              "<div>\n",
              "<style scoped>\n",
              "    .dataframe tbody tr th:only-of-type {\n",
              "        vertical-align: middle;\n",
              "    }\n",
              "\n",
              "    .dataframe tbody tr th {\n",
              "        vertical-align: top;\n",
              "    }\n",
              "\n",
              "    .dataframe thead th {\n",
              "        text-align: right;\n",
              "    }\n",
              "</style>\n",
              "<table border=\"1\" class=\"dataframe\">\n",
              "  <thead>\n",
              "    <tr style=\"text-align: right;\">\n",
              "      <th></th>\n",
              "      <th>year</th>\n",
              "      <th>price</th>\n",
              "      <th>engineSize</th>\n",
              "      <th>mileage</th>\n",
              "      <th>tax</th>\n",
              "      <th>mpg</th>\n",
              "      <th>transmission</th>\n",
              "    </tr>\n",
              "  </thead>\n",
              "  <tbody>\n",
              "    <tr>\n",
              "      <th>count</th>\n",
              "      <td>1000.000000</td>\n",
              "      <td>1000.000000</td>\n",
              "      <td>1000.000000</td>\n",
              "      <td>1000.000000</td>\n",
              "      <td>1000.000000</td>\n",
              "      <td>1000.000000</td>\n",
              "      <td>1000.000000</td>\n",
              "    </tr>\n",
              "    <tr>\n",
              "      <th>mean</th>\n",
              "      <td>2017.056000</td>\n",
              "      <td>21870.522000</td>\n",
              "      <td>2.180900</td>\n",
              "      <td>24691.131000</td>\n",
              "      <td>130.090000</td>\n",
              "      <td>57.477100</td>\n",
              "      <td>1.431000</td>\n",
              "    </tr>\n",
              "    <tr>\n",
              "      <th>std</th>\n",
              "      <td>1.713418</td>\n",
              "      <td>10674.793238</td>\n",
              "      <td>0.547252</td>\n",
              "      <td>19967.542036</td>\n",
              "      <td>55.194096</td>\n",
              "      <td>30.590835</td>\n",
              "      <td>0.495464</td>\n",
              "    </tr>\n",
              "    <tr>\n",
              "      <th>min</th>\n",
              "      <td>2013.000000</td>\n",
              "      <td>6998.000000</td>\n",
              "      <td>0.000000</td>\n",
              "      <td>10.000000</td>\n",
              "      <td>0.000000</td>\n",
              "      <td>24.100000</td>\n",
              "      <td>1.000000</td>\n",
              "    </tr>\n",
              "    <tr>\n",
              "      <th>25%</th>\n",
              "      <td>2016.000000</td>\n",
              "      <td>14998.000000</td>\n",
              "      <td>2.000000</td>\n",
              "      <td>8663.750000</td>\n",
              "      <td>125.000000</td>\n",
              "      <td>47.900000</td>\n",
              "      <td>1.000000</td>\n",
              "    </tr>\n",
              "    <tr>\n",
              "      <th>50%</th>\n",
              "      <td>2017.000000</td>\n",
              "      <td>19000.000000</td>\n",
              "      <td>2.000000</td>\n",
              "      <td>20060.000000</td>\n",
              "      <td>145.000000</td>\n",
              "      <td>54.300000</td>\n",
              "      <td>1.000000</td>\n",
              "    </tr>\n",
              "    <tr>\n",
              "      <th>75%</th>\n",
              "      <td>2019.000000</td>\n",
              "      <td>25492.000000</td>\n",
              "      <td>3.000000</td>\n",
              "      <td>35500.000000</td>\n",
              "      <td>150.000000</td>\n",
              "      <td>62.800000</td>\n",
              "      <td>2.000000</td>\n",
              "    </tr>\n",
              "    <tr>\n",
              "      <th>max</th>\n",
              "      <td>2020.000000</td>\n",
              "      <td>84898.000000</td>\n",
              "      <td>4.400000</td>\n",
              "      <td>96213.000000</td>\n",
              "      <td>305.000000</td>\n",
              "      <td>470.800000</td>\n",
              "      <td>2.000000</td>\n",
              "    </tr>\n",
              "  </tbody>\n",
              "</table>\n",
              "</div>"
            ],
            "text/plain": [
              "              year         price  ...          mpg  transmission\n",
              "count  1000.000000   1000.000000  ...  1000.000000   1000.000000\n",
              "mean   2017.056000  21870.522000  ...    57.477100      1.431000\n",
              "std       1.713418  10674.793238  ...    30.590835      0.495464\n",
              "min    2013.000000   6998.000000  ...    24.100000      1.000000\n",
              "25%    2016.000000  14998.000000  ...    47.900000      1.000000\n",
              "50%    2017.000000  19000.000000  ...    54.300000      1.000000\n",
              "75%    2019.000000  25492.000000  ...    62.800000      2.000000\n",
              "max    2020.000000  84898.000000  ...   470.800000      2.000000\n",
              "\n",
              "[8 rows x 7 columns]"
            ]
          },
          "metadata": {
            "tags": []
          },
          "execution_count": 8
        }
      ]
    },
    {
      "cell_type": "code",
      "metadata": {
        "colab": {
          "base_uri": "https://localhost:8080/",
          "height": 294
        },
        "id": "MzuXWJwcbOvV",
        "outputId": "9a9b3cca-218b-4094-f075-1d70382b75ef"
      },
      "source": [
        "data = dataset.dropna(axis = 0)\n",
        "data.describe()"
      ],
      "execution_count": 9,
      "outputs": [
        {
          "output_type": "execute_result",
          "data": {
            "text/html": [
              "<div>\n",
              "<style scoped>\n",
              "    .dataframe tbody tr th:only-of-type {\n",
              "        vertical-align: middle;\n",
              "    }\n",
              "\n",
              "    .dataframe tbody tr th {\n",
              "        vertical-align: top;\n",
              "    }\n",
              "\n",
              "    .dataframe thead th {\n",
              "        text-align: right;\n",
              "    }\n",
              "</style>\n",
              "<table border=\"1\" class=\"dataframe\">\n",
              "  <thead>\n",
              "    <tr style=\"text-align: right;\">\n",
              "      <th></th>\n",
              "      <th>year</th>\n",
              "      <th>price</th>\n",
              "      <th>engineSize</th>\n",
              "      <th>mileage</th>\n",
              "      <th>tax</th>\n",
              "      <th>mpg</th>\n",
              "      <th>transmission</th>\n",
              "    </tr>\n",
              "  </thead>\n",
              "  <tbody>\n",
              "    <tr>\n",
              "      <th>count</th>\n",
              "      <td>1000.000000</td>\n",
              "      <td>1000.000000</td>\n",
              "      <td>1000.000000</td>\n",
              "      <td>1000.000000</td>\n",
              "      <td>1000.000000</td>\n",
              "      <td>1000.000000</td>\n",
              "      <td>1000.000000</td>\n",
              "    </tr>\n",
              "    <tr>\n",
              "      <th>mean</th>\n",
              "      <td>2017.056000</td>\n",
              "      <td>21870.522000</td>\n",
              "      <td>2.180900</td>\n",
              "      <td>24691.131000</td>\n",
              "      <td>130.090000</td>\n",
              "      <td>57.477100</td>\n",
              "      <td>1.431000</td>\n",
              "    </tr>\n",
              "    <tr>\n",
              "      <th>std</th>\n",
              "      <td>1.713418</td>\n",
              "      <td>10674.793238</td>\n",
              "      <td>0.547252</td>\n",
              "      <td>19967.542036</td>\n",
              "      <td>55.194096</td>\n",
              "      <td>30.590835</td>\n",
              "      <td>0.495464</td>\n",
              "    </tr>\n",
              "    <tr>\n",
              "      <th>min</th>\n",
              "      <td>2013.000000</td>\n",
              "      <td>6998.000000</td>\n",
              "      <td>0.000000</td>\n",
              "      <td>10.000000</td>\n",
              "      <td>0.000000</td>\n",
              "      <td>24.100000</td>\n",
              "      <td>1.000000</td>\n",
              "    </tr>\n",
              "    <tr>\n",
              "      <th>25%</th>\n",
              "      <td>2016.000000</td>\n",
              "      <td>14998.000000</td>\n",
              "      <td>2.000000</td>\n",
              "      <td>8663.750000</td>\n",
              "      <td>125.000000</td>\n",
              "      <td>47.900000</td>\n",
              "      <td>1.000000</td>\n",
              "    </tr>\n",
              "    <tr>\n",
              "      <th>50%</th>\n",
              "      <td>2017.000000</td>\n",
              "      <td>19000.000000</td>\n",
              "      <td>2.000000</td>\n",
              "      <td>20060.000000</td>\n",
              "      <td>145.000000</td>\n",
              "      <td>54.300000</td>\n",
              "      <td>1.000000</td>\n",
              "    </tr>\n",
              "    <tr>\n",
              "      <th>75%</th>\n",
              "      <td>2019.000000</td>\n",
              "      <td>25492.000000</td>\n",
              "      <td>3.000000</td>\n",
              "      <td>35500.000000</td>\n",
              "      <td>150.000000</td>\n",
              "      <td>62.800000</td>\n",
              "      <td>2.000000</td>\n",
              "    </tr>\n",
              "    <tr>\n",
              "      <th>max</th>\n",
              "      <td>2020.000000</td>\n",
              "      <td>84898.000000</td>\n",
              "      <td>4.400000</td>\n",
              "      <td>96213.000000</td>\n",
              "      <td>305.000000</td>\n",
              "      <td>470.800000</td>\n",
              "      <td>2.000000</td>\n",
              "    </tr>\n",
              "  </tbody>\n",
              "</table>\n",
              "</div>"
            ],
            "text/plain": [
              "              year         price  ...          mpg  transmission\n",
              "count  1000.000000   1000.000000  ...  1000.000000   1000.000000\n",
              "mean   2017.056000  21870.522000  ...    57.477100      1.431000\n",
              "std       1.713418  10674.793238  ...    30.590835      0.495464\n",
              "min    2013.000000   6998.000000  ...    24.100000      1.000000\n",
              "25%    2016.000000  14998.000000  ...    47.900000      1.000000\n",
              "50%    2017.000000  19000.000000  ...    54.300000      1.000000\n",
              "75%    2019.000000  25492.000000  ...    62.800000      2.000000\n",
              "max    2020.000000  84898.000000  ...   470.800000      2.000000\n",
              "\n",
              "[8 rows x 7 columns]"
            ]
          },
          "metadata": {
            "tags": []
          },
          "execution_count": 9
        }
      ]
    },
    {
      "cell_type": "code",
      "metadata": {
        "colab": {
          "base_uri": "https://localhost:8080/"
        },
        "id": "nFmou2ULCuly",
        "outputId": "85bc5611-cda3-433f-d6fe-d805e79a79b4"
      },
      "source": [
        "print (dataset.dtypes)"
      ],
      "execution_count": 10,
      "outputs": [
        {
          "output_type": "stream",
          "text": [
            "model            object\n",
            "year              int64\n",
            "price             int64\n",
            "engineSize      float64\n",
            "mileage           int64\n",
            "fuelType         object\n",
            "tax               int64\n",
            "mpg             float64\n",
            "transmission      int64\n",
            "dtype: object\n"
          ],
          "name": "stdout"
        }
      ]
    },
    {
      "cell_type": "code",
      "metadata": {
        "colab": {
          "base_uri": "https://localhost:8080/"
        },
        "id": "ZutJJtMEC2FT",
        "outputId": "0ca83f96-fca8-4e9a-fb0f-ff106c6000b8"
      },
      "source": [
        "features = ['year', 'mileage', 'tax', 'mpg', 'engineSize']\n",
        "x = data[features]\n",
        "y = data['price']\n",
        "x.shape, y.shape"
      ],
      "execution_count": 11,
      "outputs": [
        {
          "output_type": "execute_result",
          "data": {
            "text/plain": [
              "((1000, 5), (1000,))"
            ]
          },
          "metadata": {
            "tags": []
          },
          "execution_count": 11
        }
      ]
    },
    {
      "cell_type": "code",
      "metadata": {
        "id": "2ciSyCsaDSJd"
      },
      "source": [
        "from sklearn.model_selection import train_test_split\n",
        "x_train, x_test, y_train, y_test = train_test_split(x, y,test_size = 0.25, random_state = 0)"
      ],
      "execution_count": 12,
      "outputs": []
    },
    {
      "cell_type": "code",
      "metadata": {
        "colab": {
          "base_uri": "https://localhost:8080/"
        },
        "id": "zfY7bE-SDv10",
        "outputId": "8d76d604-ac38-440d-cc0e-da7179449023"
      },
      "source": [
        "y_test.shape"
      ],
      "execution_count": 13,
      "outputs": [
        {
          "output_type": "execute_result",
          "data": {
            "text/plain": [
              "(250,)"
            ]
          },
          "metadata": {
            "tags": []
          },
          "execution_count": 13
        }
      ]
    },
    {
      "cell_type": "code",
      "metadata": {
        "colab": {
          "base_uri": "https://localhost:8080/"
        },
        "id": "bsw8UVAEee_c",
        "outputId": "751c5e7e-b650-4f37-ee42-b66f0854ba19"
      },
      "source": [
        "print(x_train)"
      ],
      "execution_count": 14,
      "outputs": [
        {
          "output_type": "stream",
          "text": [
            "     year  mileage  tax   mpg  engineSize\n",
            "253  2015    48867  145  54.3         2.0\n",
            "667  2016    13085  145  55.4         2.0\n",
            "85   2016    77482   20  68.9         2.0\n",
            "969  2015    48444  200  41.5         2.0\n",
            "75   2017    30865  145  72.4         1.5\n",
            "..    ...      ...  ...   ...         ...\n",
            "835  2019     6520  145  24.8         3.0\n",
            "192  2017    47110    0  78.5         1.5\n",
            "629  2016    19125  150  53.3         3.0\n",
            "559  2020     2000  145  44.1         1.5\n",
            "684  2014    54335   30  62.8         2.0\n",
            "\n",
            "[750 rows x 5 columns]\n"
          ],
          "name": "stdout"
        }
      ]
    },
    {
      "cell_type": "code",
      "metadata": {
        "colab": {
          "base_uri": "https://localhost:8080/"
        },
        "id": "ji254Gxxekfq",
        "outputId": "387814ec-0c1b-4129-c989-0955a9ce1dd9"
      },
      "source": [
        "print (x_test)"
      ],
      "execution_count": 15,
      "outputs": [
        {
          "output_type": "stream",
          "text": [
            "     year  mileage  tax    mpg  engineSize\n",
            "993  2017    19307  145   64.2         2.0\n",
            "859  2019      678  145   65.7         2.0\n",
            "298  2016    15088  145   55.4         3.0\n",
            "553  2017    24909  145   62.8         2.0\n",
            "672  2018    24141  140  156.9         2.0\n",
            "..    ...      ...  ...    ...         ...\n",
            "462  2019     1251  145   42.8         1.5\n",
            "356  2017    18435  125   53.3         1.5\n",
            "2    2016    62794  160   51.4         3.0\n",
            "478  2019     2472  145   48.7         2.0\n",
            "695  2016    24000   30   65.7         2.0\n",
            "\n",
            "[250 rows x 5 columns]\n"
          ],
          "name": "stdout"
        }
      ]
    },
    {
      "cell_type": "code",
      "metadata": {
        "colab": {
          "base_uri": "https://localhost:8080/"
        },
        "id": "cJe1aLQYeqvw",
        "outputId": "1781a88e-dfca-4fe4-8099-f3f8c73df563"
      },
      "source": [
        "print (y_train)"
      ],
      "execution_count": 16,
      "outputs": [
        {
          "output_type": "stream",
          "text": [
            "253    17498\n",
            "667    19998\n",
            "85     12150\n",
            "969    13498\n",
            "75     11100\n",
            "       ...  \n",
            "835    53898\n",
            "192    11498\n",
            "629    18998\n",
            "559    22000\n",
            "684    11891\n",
            "Name: price, Length: 750, dtype: int64\n"
          ],
          "name": "stdout"
        }
      ]
    },
    {
      "cell_type": "code",
      "metadata": {
        "colab": {
          "base_uri": "https://localhost:8080/"
        },
        "id": "q4f_uwoVexoM",
        "outputId": "fe162e85-f2aa-4b8c-ee29-1da2a8b24799"
      },
      "source": [
        "print (y_test)"
      ],
      "execution_count": 17,
      "outputs": [
        {
          "output_type": "stream",
          "text": [
            "993    17498\n",
            "859    30900\n",
            "298    18000\n",
            "553    17695\n",
            "672    25998\n",
            "       ...  \n",
            "462    21000\n",
            "356    11990\n",
            "2      16000\n",
            "478    29000\n",
            "695    13491\n",
            "Name: price, Length: 250, dtype: int64\n"
          ],
          "name": "stdout"
        }
      ]
    },
    {
      "cell_type": "code",
      "metadata": {
        "id": "etKkURrrfAXo"
      },
      "source": [
        "from sklearn.preprocessing import StandardScaler\n",
        "sc = StandardScaler()\n",
        "x_train = sc.fit_transform(x_train)\n",
        "x_test = sc.transform(x_test)"
      ],
      "execution_count": 18,
      "outputs": []
    },
    {
      "cell_type": "code",
      "metadata": {
        "colab": {
          "base_uri": "https://localhost:8080/"
        },
        "id": "r3B_ZCUifEyS",
        "outputId": "9a2419cd-c05b-4207-fafc-a49a96628603"
      },
      "source": [
        "print (x_train)"
      ],
      "execution_count": 19,
      "outputs": [
        {
          "output_type": "stream",
          "text": [
            "[[-1.2387466   1.23778197  0.27781485 -0.10114092 -0.34324934]\n",
            " [-0.6484925  -0.57124712  0.27781485 -0.06504728 -0.34324934]\n",
            " [-0.6484925   2.68446933 -1.97717582  0.37792    -0.34324934]\n",
            " ...\n",
            " [-0.6484925  -0.26588309  0.36801448 -0.13395331  1.4748086 ]\n",
            " [ 1.71252389 -1.131671    0.27781485 -0.43582731 -1.2522783 ]\n",
            " [-1.8290007   1.51422742 -1.79677657  0.17776441 -0.34324934]]\n"
          ],
          "name": "stdout"
        }
      ]
    },
    {
      "cell_type": "code",
      "metadata": {
        "colab": {
          "base_uri": "https://localhost:8080/"
        },
        "id": "4VIsYe3gfR5z",
        "outputId": "00fc0677-8922-4e5a-c0da-c83fbeb7f315"
      },
      "source": [
        "print (x_test)"
      ],
      "execution_count": 20,
      "outputs": [
        {
          "output_type": "stream",
          "text": [
            "[[-0.0582384  -0.25668172  0.27781485  0.22370176 -0.34324934]\n",
            " [ 1.12226979 -1.1985073   0.27781485  0.27292035 -0.34324934]\n",
            " [-0.6484925  -0.46998153  0.27781485 -0.06504728  1.4748086 ]\n",
            " ...\n",
            " [-0.6484925   1.94188873  0.54841373 -0.19629685  1.4748086 ]\n",
            " [ 1.12226979 -1.10780812  0.27781485 -0.28489031 -0.34324934]\n",
            " [-0.6484925  -0.01941792 -1.79677657  0.27292035 -0.34324934]]\n"
          ],
          "name": "stdout"
        }
      ]
    },
    {
      "cell_type": "code",
      "metadata": {
        "colab": {
          "base_uri": "https://localhost:8080/"
        },
        "id": "QkMSBjAYEDph",
        "outputId": "766f0a1c-cf27-4722-f9a6-19600f21b109"
      },
      "source": [
        "from sklearn.neighbors import KNeighborsRegressor as KNN_Reg\n",
        "from sklearn.metrics import mean_squared_error as mse\n",
        "model = KNN_Reg(n_neighbors = 1)\n",
        "\n",
        "# model Training:\n",
        "model.fit(x_train, y_train)\n",
        "test1 = model.score(x_test, y_test)\n",
        "\n",
        "# Test Prediksi\n",
        "test_predict = model.predict(x_test)\n",
        "score = mse(test_predict, y_test)\n",
        "print(' Mean Square Error: ', score, '\\n', 'Accuracy: ', test1) "
      ],
      "execution_count": 21,
      "outputs": [
        {
          "output_type": "stream",
          "text": [
            " Mean Square Error:  34441129.14 \n",
            " Accuracy:  0.6132581085267351\n"
          ],
          "name": "stdout"
        }
      ]
    },
    {
      "cell_type": "code",
      "metadata": {
        "id": "8LUBYcSNELcs"
      },
      "source": [
        "def Elbow(K):\n",
        "  #inisiasi List kosong\n",
        "  test_MSE =[]\n",
        "\n",
        "  #model data training untuk setiap nilai K\n",
        "  for i in K:\n",
        "    model = KNN_Reg(n_neighbors=i)\n",
        "    model.fit(x_train, y_train)\n",
        "    temp = model.predict(x_test)\n",
        "    temp = mse(temp, y_test)\n",
        "    test_MSE.append(temp)\n",
        "  \n",
        "  return test_MSE"
      ],
      "execution_count": 23,
      "outputs": []
    },
    {
      "cell_type": "code",
      "metadata": {
        "colab": {
          "base_uri": "https://localhost:8080/",
          "height": 312
        },
        "id": "spqvyouSERDW",
        "outputId": "2f4593b7-48e1-4175-93bd-cf180105331a"
      },
      "source": [
        "K = range(5, 20)\n",
        "test = Elbow(K)\n",
        "\n",
        "#plotting\n",
        "plt.plot(K,test)\n",
        "plt.xlabel('K Neighbors')\n",
        "plt.ylabel('Mean Squared Error (MSE)')\n",
        "plt.title('Elbow Curve for Test')"
      ],
      "execution_count": 31,
      "outputs": [
        {
          "output_type": "execute_result",
          "data": {
            "text/plain": [
              "Text(0.5, 1.0, 'Elbow Curve for Test')"
            ]
          },
          "metadata": {
            "tags": []
          },
          "execution_count": 31
        },
        {
          "output_type": "display_data",
          "data": {
            "image/png": "[encoded data removed]",
            "text/plain": [
              "<Figure size 432x288 with 1 Axes>"
            ]
          },
          "metadata": {
            "tags": [],
            "needs_background": "light"
          }
        }
      ]
    },
    {
      "cell_type": "code",
      "metadata": {
        "colab": {
          "base_uri": "https://localhost:8080/"
        },
        "id": "AZ9TKkobEUQN",
        "outputId": "beec858d-3660-414b-dd89-5ec5b20bd049"
      },
      "source": [
        "new_model = KNN_Reg(n_neighbors=7)\n",
        "\n",
        "# Model Training\n",
        "new_model.fit(x_train, y_train)\n",
        "test2 = new_model.score(x_test, y_test)\n",
        "\n",
        "# Prediksi test\n",
        "print(' Akurasi Model Baru (%):', test2*100, '\\n', 'Akurasi Model Lama (%):', test1*100, '\\n Perbaikan (%):', (test2-test1)*100)"
      ],
      "execution_count": 25,
      "outputs": [
        {
          "output_type": "stream",
          "text": [
            " Akurasi Model Baru (%): 79.21920029227451 \n",
            " Akurasi Model Lama (%): 61.32581085267351 \n",
            " Perbaikan (%): 17.893389439600995\n"
          ],
          "name": "stdout"
        }
      ]
    },
    {
      "cell_type": "code",
      "metadata": {
        "colab": {
          "base_uri": "https://localhost:8080/",
          "height": 312
        },
        "id": "jk-OQmXAyuPp",
        "outputId": "4554aade-f263-4fe4-cfd1-20a81b080e8d"
      },
      "source": [
        "np.corrcoef(data['price'], data['year'])\n",
        "plt.scatter(data['year'], data['price'])\n",
        "plt.xlabel(\"year\")\n",
        "plt.ylabel(\"price\")\n",
        "plt.title(\"Harga per Tahun\")"
      ],
      "execution_count": 26,
      "outputs": [
        {
          "output_type": "execute_result",
          "data": {
            "text/plain": [
              "Text(0.5, 1.0, 'Harga per Tahun')"
            ]
          },
          "metadata": {
            "tags": []
          },
          "execution_count": 26
        },
        {
          "output_type": "display_data",
          "data": {
            "image/png": "[encoded data removed]",
            "text/plain": [
              "<Figure size 432x288 with 1 Axes>"
            ]
          },
          "metadata": {
            "tags": [],
            "needs_background": "light"
          }
        }
      ]
    },
    {
      "cell_type": "markdown",
      "metadata": {
        "id": "M0XmC1ha2CiR"
      },
      "source": [
        "Data mobil bekas: year=2019,mileage=5000, tax=145, mpg=30.2, engineSize=2"
      ]
    },
    {
      "cell_type": "code",
      "metadata": {
        "colab": {
          "base_uri": "https://localhost:8080/"
        },
        "id": "scEGoESsrEuV",
        "outputId": "567fb39d-82de-40b9-ed4c-05bc77a69884"
      },
      "source": [
        "data_BMW_bekas = np.array([[2019,5000,145,30.2,2]])\n",
        "prediction_old = model.predict(data_BMW_bekas)\n",
        "prediction_new = new_model.predict(data_BMW_bekas)\n",
        "print(' Hasil Prediksi harga BMW dengan Model Prediksi Lama: £', prediction_old, 'atau jika dirupiahkan yaitu: Rp', prediction_old * 19110*1e-6, 'Juta\\n\\n',\n",
        "      'Hasil Prediksi harga BMW dengan Model Prediksi Baru: £', prediction_new, 'atau jika dirupiahkan yaitu: Rp', prediction_new * 19110*1e-6, 'Juta')"
      ],
      "execution_count": 27,
      "outputs": [
        {
          "output_type": "stream",
          "text": [
            " Hasil Prediksi harga BMW dengan Model Prediksi Lama: £ [19750.] atau jika dirupiahkan yaitu: Rp [377.4225] Juta\n",
            "\n",
            " Hasil Prediksi harga BMW dengan Model Prediksi Baru: £ [15126.57142857] atau jika dirupiahkan yaitu: Rp [289.06878] Juta\n"
          ],
          "name": "stdout"
        }
      ]
    }
  ]
}