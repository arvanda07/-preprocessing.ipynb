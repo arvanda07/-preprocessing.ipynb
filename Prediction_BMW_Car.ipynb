{
  "nbformat": 4,
  "nbformat_minor": 0,
  "metadata": {
    "colab": {
      "name": "Prediction_BMW_Car.ipynb",
      "provenance": [],
      "collapsed_sections": [],
      "authorship_tag": "ABX9TyOsVCCi/UTHYOU11uU33apM",
      "include_colab_link": true
    },
    "kernelspec": {
      "name": "python3",
      "display_name": "Python 3"
    },
    "language_info": {
      "name": "python"
    }
  },
  "cells": [
    {
      "cell_type": "markdown",
      "metadata": {
        "id": "view-in-github",
        "colab_type": "text"
      },
      "source": [
        "<a href=\"https://colab.research.google.com/github/arvanda07/-preprocessing.ipynb/blob/main/Prediction_BMW_Car.ipynb\" target=\"_parent\"><img src=\"https://colab.research.google.com/assets/colab-badge.svg\" alt=\"Open In Colab\"/></a>"
      ]
    },
    {
      "cell_type": "markdown",
      "metadata": {
        "id": "3n0CM6tBI3PS"
      },
      "source": [
        ""
      ]
    },
    {
      "cell_type": "code",
      "metadata": {
        "id": "gWeRGHPmIbpE"
      },
      "source": [
        "import numpy as np\n",
        "import matplotlib.pyplot as plt\n",
        "import pandas as pd\n",
        "import sklearn.metrics as metrics"
      ],
      "execution_count": 282,
      "outputs": []
    },
    {
      "cell_type": "code",
      "metadata": {
        "colab": {
          "base_uri": "https://localhost:8080/"
        },
        "id": "Lji9kGoNJBkO",
        "outputId": "5056e8dc-8123-4ed4-a8ea-5fdeb4c04f38"
      },
      "source": [
        "dataset = pd.read_csv(\"Dataset_Prediksi_BMW.csv\")\n",
        "dataset.shape"
      ],
      "execution_count": 283,
      "outputs": [
        {
          "output_type": "execute_result",
          "data": {
            "text/plain": [
              "(1000, 9)"
            ]
          },
          "metadata": {
            "tags": []
          },
          "execution_count": 283
        }
      ]
    },
    {
      "cell_type": "code",
      "metadata": {
        "colab": {
          "base_uri": "https://localhost:8080/",
          "height": 202
        },
        "id": "pDrH5zedRYE_",
        "outputId": "3e27f1e7-7c92-496e-8e13-e8affce172dc"
      },
      "source": [
        "dataset.head()"
      ],
      "execution_count": 284,
      "outputs": [
        {
          "output_type": "execute_result",
          "data": {
            "text/html": [
              "<div>\n",
              "<style scoped>\n",
              "    .dataframe tbody tr th:only-of-type {\n",
              "        vertical-align: middle;\n",
              "    }\n",
              "\n",
              "    .dataframe tbody tr th {\n",
              "        vertical-align: top;\n",
              "    }\n",
              "\n",
              "    .dataframe thead th {\n",
              "        text-align: right;\n",
              "    }\n",
              "</style>\n",
              "<table border=\"1\" class=\"dataframe\">\n",
              "  <thead>\n",
              "    <tr style=\"text-align: right;\">\n",
              "      <th></th>\n",
              "      <th>model</th>\n",
              "      <th>year</th>\n",
              "      <th>price</th>\n",
              "      <th>engineSize</th>\n",
              "      <th>mileage</th>\n",
              "      <th>fuelType</th>\n",
              "      <th>tax</th>\n",
              "      <th>mpg</th>\n",
              "      <th>transmission</th>\n",
              "    </tr>\n",
              "  </thead>\n",
              "  <tbody>\n",
              "    <tr>\n",
              "      <th>0</th>\n",
              "      <td>5 Series</td>\n",
              "      <td>2014</td>\n",
              "      <td>11200</td>\n",
              "      <td>2.0</td>\n",
              "      <td>67068</td>\n",
              "      <td>Diesel</td>\n",
              "      <td>125</td>\n",
              "      <td>57.6</td>\n",
              "      <td>1</td>\n",
              "    </tr>\n",
              "    <tr>\n",
              "      <th>1</th>\n",
              "      <td>6 Series</td>\n",
              "      <td>2018</td>\n",
              "      <td>27000</td>\n",
              "      <td>2.0</td>\n",
              "      <td>14827</td>\n",
              "      <td>Petrol</td>\n",
              "      <td>145</td>\n",
              "      <td>42.8</td>\n",
              "      <td>1</td>\n",
              "    </tr>\n",
              "    <tr>\n",
              "      <th>2</th>\n",
              "      <td>5 Series</td>\n",
              "      <td>2016</td>\n",
              "      <td>16000</td>\n",
              "      <td>3.0</td>\n",
              "      <td>62794</td>\n",
              "      <td>Diesel</td>\n",
              "      <td>160</td>\n",
              "      <td>51.4</td>\n",
              "      <td>1</td>\n",
              "    </tr>\n",
              "    <tr>\n",
              "      <th>3</th>\n",
              "      <td>1 Series</td>\n",
              "      <td>2017</td>\n",
              "      <td>12750</td>\n",
              "      <td>1.5</td>\n",
              "      <td>26676</td>\n",
              "      <td>Diesel</td>\n",
              "      <td>145</td>\n",
              "      <td>72.4</td>\n",
              "      <td>1</td>\n",
              "    </tr>\n",
              "    <tr>\n",
              "      <th>4</th>\n",
              "      <td>7 Series</td>\n",
              "      <td>2014</td>\n",
              "      <td>14500</td>\n",
              "      <td>3.0</td>\n",
              "      <td>39554</td>\n",
              "      <td>Diesel</td>\n",
              "      <td>160</td>\n",
              "      <td>50.4</td>\n",
              "      <td>1</td>\n",
              "    </tr>\n",
              "  </tbody>\n",
              "</table>\n",
              "</div>"
            ],
            "text/plain": [
              "       model  year  price  engineSize  ...  fuelType  tax   mpg  transmission\n",
              "0   5 Series  2014  11200         2.0  ...    Diesel  125  57.6             1\n",
              "1   6 Series  2018  27000         2.0  ...    Petrol  145  42.8             1\n",
              "2   5 Series  2016  16000         3.0  ...    Diesel  160  51.4             1\n",
              "3   1 Series  2017  12750         1.5  ...    Diesel  145  72.4             1\n",
              "4   7 Series  2014  14500         3.0  ...    Diesel  160  50.4             1\n",
              "\n",
              "[5 rows x 9 columns]"
            ]
          },
          "metadata": {
            "tags": []
          },
          "execution_count": 284
        }
      ]
    },
    {
      "cell_type": "code",
      "metadata": {
        "colab": {
          "base_uri": "https://localhost:8080/",
          "height": 294
        },
        "id": "iy0d3No-R3WF",
        "outputId": "4bd5bfd9-901e-4359-bf2d-7e3eea4fcbf1"
      },
      "source": [
        "dataset.describe()"
      ],
      "execution_count": 285,
      "outputs": [
        {
          "output_type": "execute_result",
          "data": {
            "text/html": [
              "<div>\n",
              "<style scoped>\n",
              "    .dataframe tbody tr th:only-of-type {\n",
              "        vertical-align: middle;\n",
              "    }\n",
              "\n",
              "    .dataframe tbody tr th {\n",
              "        vertical-align: top;\n",
              "    }\n",
              "\n",
              "    .dataframe thead th {\n",
              "        text-align: right;\n",
              "    }\n",
              "</style>\n",
              "<table border=\"1\" class=\"dataframe\">\n",
              "  <thead>\n",
              "    <tr style=\"text-align: right;\">\n",
              "      <th></th>\n",
              "      <th>year</th>\n",
              "      <th>price</th>\n",
              "      <th>engineSize</th>\n",
              "      <th>mileage</th>\n",
              "      <th>tax</th>\n",
              "      <th>mpg</th>\n",
              "      <th>transmission</th>\n",
              "    </tr>\n",
              "  </thead>\n",
              "  <tbody>\n",
              "    <tr>\n",
              "      <th>count</th>\n",
              "      <td>1000.000000</td>\n",
              "      <td>1000.000000</td>\n",
              "      <td>1000.000000</td>\n",
              "      <td>1000.000000</td>\n",
              "      <td>1000.000000</td>\n",
              "      <td>1000.000000</td>\n",
              "      <td>1000.000000</td>\n",
              "    </tr>\n",
              "    <tr>\n",
              "      <th>mean</th>\n",
              "      <td>2017.056000</td>\n",
              "      <td>21870.522000</td>\n",
              "      <td>2.180900</td>\n",
              "      <td>24691.131000</td>\n",
              "      <td>130.090000</td>\n",
              "      <td>57.477100</td>\n",
              "      <td>1.431000</td>\n",
              "    </tr>\n",
              "    <tr>\n",
              "      <th>std</th>\n",
              "      <td>1.713418</td>\n",
              "      <td>10674.793238</td>\n",
              "      <td>0.547252</td>\n",
              "      <td>19967.542036</td>\n",
              "      <td>55.194096</td>\n",
              "      <td>30.590835</td>\n",
              "      <td>0.495464</td>\n",
              "    </tr>\n",
              "    <tr>\n",
              "      <th>min</th>\n",
              "      <td>2013.000000</td>\n",
              "      <td>6998.000000</td>\n",
              "      <td>0.000000</td>\n",
              "      <td>10.000000</td>\n",
              "      <td>0.000000</td>\n",
              "      <td>24.100000</td>\n",
              "      <td>1.000000</td>\n",
              "    </tr>\n",
              "    <tr>\n",
              "      <th>25%</th>\n",
              "      <td>2016.000000</td>\n",
              "      <td>14998.000000</td>\n",
              "      <td>2.000000</td>\n",
              "      <td>8663.750000</td>\n",
              "      <td>125.000000</td>\n",
              "      <td>47.900000</td>\n",
              "      <td>1.000000</td>\n",
              "    </tr>\n",
              "    <tr>\n",
              "      <th>50%</th>\n",
              "      <td>2017.000000</td>\n",
              "      <td>19000.000000</td>\n",
              "      <td>2.000000</td>\n",
              "      <td>20060.000000</td>\n",
              "      <td>145.000000</td>\n",
              "      <td>54.300000</td>\n",
              "      <td>1.000000</td>\n",
              "    </tr>\n",
              "    <tr>\n",
              "      <th>75%</th>\n",
              "      <td>2019.000000</td>\n",
              "      <td>25492.000000</td>\n",
              "      <td>3.000000</td>\n",
              "      <td>35500.000000</td>\n",
              "      <td>150.000000</td>\n",
              "      <td>62.800000</td>\n",
              "      <td>2.000000</td>\n",
              "    </tr>\n",
              "    <tr>\n",
              "      <th>max</th>\n",
              "      <td>2020.000000</td>\n",
              "      <td>84898.000000</td>\n",
              "      <td>4.400000</td>\n",
              "      <td>96213.000000</td>\n",
              "      <td>305.000000</td>\n",
              "      <td>470.800000</td>\n",
              "      <td>2.000000</td>\n",
              "    </tr>\n",
              "  </tbody>\n",
              "</table>\n",
              "</div>"
            ],
            "text/plain": [
              "              year         price  ...          mpg  transmission\n",
              "count  1000.000000   1000.000000  ...  1000.000000   1000.000000\n",
              "mean   2017.056000  21870.522000  ...    57.477100      1.431000\n",
              "std       1.713418  10674.793238  ...    30.590835      0.495464\n",
              "min    2013.000000   6998.000000  ...    24.100000      1.000000\n",
              "25%    2016.000000  14998.000000  ...    47.900000      1.000000\n",
              "50%    2017.000000  19000.000000  ...    54.300000      1.000000\n",
              "75%    2019.000000  25492.000000  ...    62.800000      2.000000\n",
              "max    2020.000000  84898.000000  ...   470.800000      2.000000\n",
              "\n",
              "[8 rows x 7 columns]"
            ]
          },
          "metadata": {
            "tags": []
          },
          "execution_count": 285
        }
      ]
    },
    {
      "cell_type": "code",
      "metadata": {
        "colab": {
          "base_uri": "https://localhost:8080/",
          "height": 294
        },
        "id": "MzuXWJwcbOvV",
        "outputId": "c4a7dce1-0caf-43e2-c1ac-5953fad02e72"
      },
      "source": [
        "data = dataset.dropna(axis = 0)\n",
        "data.describe()"
      ],
      "execution_count": 286,
      "outputs": [
        {
          "output_type": "execute_result",
          "data": {
            "text/html": [
              "<div>\n",
              "<style scoped>\n",
              "    .dataframe tbody tr th:only-of-type {\n",
              "        vertical-align: middle;\n",
              "    }\n",
              "\n",
              "    .dataframe tbody tr th {\n",
              "        vertical-align: top;\n",
              "    }\n",
              "\n",
              "    .dataframe thead th {\n",
              "        text-align: right;\n",
              "    }\n",
              "</style>\n",
              "<table border=\"1\" class=\"dataframe\">\n",
              "  <thead>\n",
              "    <tr style=\"text-align: right;\">\n",
              "      <th></th>\n",
              "      <th>year</th>\n",
              "      <th>price</th>\n",
              "      <th>engineSize</th>\n",
              "      <th>mileage</th>\n",
              "      <th>tax</th>\n",
              "      <th>mpg</th>\n",
              "      <th>transmission</th>\n",
              "    </tr>\n",
              "  </thead>\n",
              "  <tbody>\n",
              "    <tr>\n",
              "      <th>count</th>\n",
              "      <td>1000.000000</td>\n",
              "      <td>1000.000000</td>\n",
              "      <td>1000.000000</td>\n",
              "      <td>1000.000000</td>\n",
              "      <td>1000.000000</td>\n",
              "      <td>1000.000000</td>\n",
              "      <td>1000.000000</td>\n",
              "    </tr>\n",
              "    <tr>\n",
              "      <th>mean</th>\n",
              "      <td>2017.056000</td>\n",
              "      <td>21870.522000</td>\n",
              "      <td>2.180900</td>\n",
              "      <td>24691.131000</td>\n",
              "      <td>130.090000</td>\n",
              "      <td>57.477100</td>\n",
              "      <td>1.431000</td>\n",
              "    </tr>\n",
              "    <tr>\n",
              "      <th>std</th>\n",
              "      <td>1.713418</td>\n",
              "      <td>10674.793238</td>\n",
              "      <td>0.547252</td>\n",
              "      <td>19967.542036</td>\n",
              "      <td>55.194096</td>\n",
              "      <td>30.590835</td>\n",
              "      <td>0.495464</td>\n",
              "    </tr>\n",
              "    <tr>\n",
              "      <th>min</th>\n",
              "      <td>2013.000000</td>\n",
              "      <td>6998.000000</td>\n",
              "      <td>0.000000</td>\n",
              "      <td>10.000000</td>\n",
              "      <td>0.000000</td>\n",
              "      <td>24.100000</td>\n",
              "      <td>1.000000</td>\n",
              "    </tr>\n",
              "    <tr>\n",
              "      <th>25%</th>\n",
              "      <td>2016.000000</td>\n",
              "      <td>14998.000000</td>\n",
              "      <td>2.000000</td>\n",
              "      <td>8663.750000</td>\n",
              "      <td>125.000000</td>\n",
              "      <td>47.900000</td>\n",
              "      <td>1.000000</td>\n",
              "    </tr>\n",
              "    <tr>\n",
              "      <th>50%</th>\n",
              "      <td>2017.000000</td>\n",
              "      <td>19000.000000</td>\n",
              "      <td>2.000000</td>\n",
              "      <td>20060.000000</td>\n",
              "      <td>145.000000</td>\n",
              "      <td>54.300000</td>\n",
              "      <td>1.000000</td>\n",
              "    </tr>\n",
              "    <tr>\n",
              "      <th>75%</th>\n",
              "      <td>2019.000000</td>\n",
              "      <td>25492.000000</td>\n",
              "      <td>3.000000</td>\n",
              "      <td>35500.000000</td>\n",
              "      <td>150.000000</td>\n",
              "      <td>62.800000</td>\n",
              "      <td>2.000000</td>\n",
              "    </tr>\n",
              "    <tr>\n",
              "      <th>max</th>\n",
              "      <td>2020.000000</td>\n",
              "      <td>84898.000000</td>\n",
              "      <td>4.400000</td>\n",
              "      <td>96213.000000</td>\n",
              "      <td>305.000000</td>\n",
              "      <td>470.800000</td>\n",
              "      <td>2.000000</td>\n",
              "    </tr>\n",
              "  </tbody>\n",
              "</table>\n",
              "</div>"
            ],
            "text/plain": [
              "              year         price  ...          mpg  transmission\n",
              "count  1000.000000   1000.000000  ...  1000.000000   1000.000000\n",
              "mean   2017.056000  21870.522000  ...    57.477100      1.431000\n",
              "std       1.713418  10674.793238  ...    30.590835      0.495464\n",
              "min    2013.000000   6998.000000  ...    24.100000      1.000000\n",
              "25%    2016.000000  14998.000000  ...    47.900000      1.000000\n",
              "50%    2017.000000  19000.000000  ...    54.300000      1.000000\n",
              "75%    2019.000000  25492.000000  ...    62.800000      2.000000\n",
              "max    2020.000000  84898.000000  ...   470.800000      2.000000\n",
              "\n",
              "[8 rows x 7 columns]"
            ]
          },
          "metadata": {
            "tags": []
          },
          "execution_count": 286
        }
      ]
    },
    {
      "cell_type": "code",
      "metadata": {
        "colab": {
          "base_uri": "https://localhost:8080/"
        },
        "id": "nFmou2ULCuly",
        "outputId": "1301d39c-157c-47d3-9394-2de28f941cf3"
      },
      "source": [
        "print (dataset.dtypes)"
      ],
      "execution_count": 287,
      "outputs": [
        {
          "output_type": "stream",
          "text": [
            "model            object\n",
            "year              int64\n",
            "price             int64\n",
            "engineSize      float64\n",
            "mileage           int64\n",
            "fuelType         object\n",
            "tax               int64\n",
            "mpg             float64\n",
            "transmission      int64\n",
            "dtype: object\n"
          ],
          "name": "stdout"
        }
      ]
    },
    {
      "cell_type": "code",
      "metadata": {
        "colab": {
          "base_uri": "https://localhost:8080/"
        },
        "id": "ZutJJtMEC2FT",
        "outputId": "e88bb736-c26c-4032-9fdd-375ff562299e"
      },
      "source": [
        "features = ['year', 'mileage', 'tax', 'mpg', 'engineSize']\n",
        "x = data[features]\n",
        "y = data['price']\n",
        "x.shape, y.shape"
      ],
      "execution_count": 288,
      "outputs": [
        {
          "output_type": "execute_result",
          "data": {
            "text/plain": [
              "((1000, 5), (1000,))"
            ]
          },
          "metadata": {
            "tags": []
          },
          "execution_count": 288
        }
      ]
    },
    {
      "cell_type": "code",
      "metadata": {
        "id": "2ciSyCsaDSJd"
      },
      "source": [
        "from sklearn.model_selection import train_test_split\n",
        "x_train, x_test, y_train, y_test = train_test_split(x, y,test_size = 0.25, random_state = 0)"
      ],
      "execution_count": 289,
      "outputs": []
    },
    {
      "cell_type": "code",
      "metadata": {
        "colab": {
          "base_uri": "https://localhost:8080/"
        },
        "id": "zfY7bE-SDv10",
        "outputId": "e4906628-74e8-4811-9233-cbaec119ef50"
      },
      "source": [
        "y_test.shape"
      ],
      "execution_count": 290,
      "outputs": [
        {
          "output_type": "execute_result",
          "data": {
            "text/plain": [
              "(250,)"
            ]
          },
          "metadata": {
            "tags": []
          },
          "execution_count": 290
        }
      ]
    },
    {
      "cell_type": "code",
      "metadata": {
        "colab": {
          "base_uri": "https://localhost:8080/"
        },
        "id": "bsw8UVAEee_c",
        "outputId": "4fa421fc-5bdd-4a11-bde4-a04a1b401dc0"
      },
      "source": [
        "print(x_train)"
      ],
      "execution_count": 291,
      "outputs": [
        {
          "output_type": "stream",
          "text": [
            "     year  mileage  tax   mpg  engineSize\n",
            "253  2015    48867  145  54.3         2.0\n",
            "667  2016    13085  145  55.4         2.0\n",
            "85   2016    77482   20  68.9         2.0\n",
            "969  2015    48444  200  41.5         2.0\n",
            "75   2017    30865  145  72.4         1.5\n",
            "..    ...      ...  ...   ...         ...\n",
            "835  2019     6520  145  24.8         3.0\n",
            "192  2017    47110    0  78.5         1.5\n",
            "629  2016    19125  150  53.3         3.0\n",
            "559  2020     2000  145  44.1         1.5\n",
            "684  2014    54335   30  62.8         2.0\n",
            "\n",
            "[750 rows x 5 columns]\n"
          ],
          "name": "stdout"
        }
      ]
    },
    {
      "cell_type": "code",
      "metadata": {
        "colab": {
          "base_uri": "https://localhost:8080/"
        },
        "id": "ji254Gxxekfq",
        "outputId": "2b6e3d39-02ec-4ae2-d020-1e2bed1ddd2c"
      },
      "source": [
        "print (x_test)"
      ],
      "execution_count": 292,
      "outputs": [
        {
          "output_type": "stream",
          "text": [
            "     year  mileage  tax    mpg  engineSize\n",
            "993  2017    19307  145   64.2         2.0\n",
            "859  2019      678  145   65.7         2.0\n",
            "298  2016    15088  145   55.4         3.0\n",
            "553  2017    24909  145   62.8         2.0\n",
            "672  2018    24141  140  156.9         2.0\n",
            "..    ...      ...  ...    ...         ...\n",
            "462  2019     1251  145   42.8         1.5\n",
            "356  2017    18435  125   53.3         1.5\n",
            "2    2016    62794  160   51.4         3.0\n",
            "478  2019     2472  145   48.7         2.0\n",
            "695  2016    24000   30   65.7         2.0\n",
            "\n",
            "[250 rows x 5 columns]\n"
          ],
          "name": "stdout"
        }
      ]
    },
    {
      "cell_type": "code",
      "metadata": {
        "colab": {
          "base_uri": "https://localhost:8080/"
        },
        "id": "cJe1aLQYeqvw",
        "outputId": "9b4d4c13-36ea-4f39-ed8a-9d33d9341792"
      },
      "source": [
        "print (y_train)"
      ],
      "execution_count": 293,
      "outputs": [
        {
          "output_type": "stream",
          "text": [
            "253    17498\n",
            "667    19998\n",
            "85     12150\n",
            "969    13498\n",
            "75     11100\n",
            "       ...  \n",
            "835    53898\n",
            "192    11498\n",
            "629    18998\n",
            "559    22000\n",
            "684    11891\n",
            "Name: price, Length: 750, dtype: int64\n"
          ],
          "name": "stdout"
        }
      ]
    },
    {
      "cell_type": "code",
      "metadata": {
        "colab": {
          "base_uri": "https://localhost:8080/"
        },
        "id": "q4f_uwoVexoM",
        "outputId": "41f42fad-f6b1-4f8e-d5b3-a5868d31249c"
      },
      "source": [
        "print (y_test)"
      ],
      "execution_count": 294,
      "outputs": [
        {
          "output_type": "stream",
          "text": [
            "993    17498\n",
            "859    30900\n",
            "298    18000\n",
            "553    17695\n",
            "672    25998\n",
            "       ...  \n",
            "462    21000\n",
            "356    11990\n",
            "2      16000\n",
            "478    29000\n",
            "695    13491\n",
            "Name: price, Length: 250, dtype: int64\n"
          ],
          "name": "stdout"
        }
      ]
    },
    {
      "cell_type": "code",
      "metadata": {
        "id": "etKkURrrfAXo"
      },
      "source": [
        "from sklearn.preprocessing import StandardScaler\n",
        "sc = StandardScaler()\n",
        "x_train = sc.fit_transform(x_train)\n",
        "x_test = sc.transform(x_test)"
      ],
      "execution_count": 295,
      "outputs": []
    },
    {
      "cell_type": "code",
      "metadata": {
        "colab": {
          "base_uri": "https://localhost:8080/"
        },
        "id": "r3B_ZCUifEyS",
        "outputId": "c4192781-9ea4-4d7e-aa48-279b0929c125"
      },
      "source": [
        "print (x_train)"
      ],
      "execution_count": 296,
      "outputs": [
        {
          "output_type": "stream",
          "text": [
            "[[-1.2387466   1.23778197  0.27781485 -0.10114092 -0.34324934]\n",
            " [-0.6484925  -0.57124712  0.27781485 -0.06504728 -0.34324934]\n",
            " [-0.6484925   2.68446933 -1.97717582  0.37792    -0.34324934]\n",
            " ...\n",
            " [-0.6484925  -0.26588309  0.36801448 -0.13395331  1.4748086 ]\n",
            " [ 1.71252389 -1.131671    0.27781485 -0.43582731 -1.2522783 ]\n",
            " [-1.8290007   1.51422742 -1.79677657  0.17776441 -0.34324934]]\n"
          ],
          "name": "stdout"
        }
      ]
    },
    {
      "cell_type": "code",
      "metadata": {
        "colab": {
          "base_uri": "https://localhost:8080/"
        },
        "id": "4VIsYe3gfR5z",
        "outputId": "1eb6a8b0-38f2-40f3-84dc-854d0ad7b0e2"
      },
      "source": [
        "print (x_test)"
      ],
      "execution_count": 297,
      "outputs": [
        {
          "output_type": "stream",
          "text": [
            "[[-0.0582384  -0.25668172  0.27781485  0.22370176 -0.34324934]\n",
            " [ 1.12226979 -1.1985073   0.27781485  0.27292035 -0.34324934]\n",
            " [-0.6484925  -0.46998153  0.27781485 -0.06504728  1.4748086 ]\n",
            " ...\n",
            " [-0.6484925   1.94188873  0.54841373 -0.19629685  1.4748086 ]\n",
            " [ 1.12226979 -1.10780812  0.27781485 -0.28489031 -0.34324934]\n",
            " [-0.6484925  -0.01941792 -1.79677657  0.27292035 -0.34324934]]\n"
          ],
          "name": "stdout"
        }
      ]
    },
    {
      "cell_type": "code",
      "metadata": {
        "colab": {
          "base_uri": "https://localhost:8080/"
        },
        "id": "QkMSBjAYEDph",
        "outputId": "1aeda2da-1a9a-47aa-a2c5-2cd162b61142"
      },
      "source": [
        "from sklearn.neighbors import KNeighborsRegressor as KNN_Reg\n",
        "from sklearn.metrics import mean_squared_error as mse\n",
        "model = KNN_Reg(n_neighbors = 1)\n",
        "\n",
        "# model Training:\n",
        "model.fit(x_train, y_train)\n",
        "test1 = model.score(x_test, y_test)\n",
        "\n",
        "# Test Prediksi\n",
        "test_predict = model.predict(x_test)\n",
        "score = mse(test_predict, y_test)\n",
        "print(' Mean Square Error: ', score, '\\n', 'Accuracy: ', test1) "
      ],
      "execution_count": 298,
      "outputs": [
        {
          "output_type": "stream",
          "text": [
            " Mean Square Error:  34441129.14 \n",
            " Accuracy:  0.6132581085267351\n"
          ],
          "name": "stdout"
        }
      ]
    },
    {
      "cell_type": "code",
      "metadata": {
        "id": "8LUBYcSNELcs"
      },
      "source": [
        "def Elbow(K):\n",
        "  #inisiasi List kosong\n",
        "  test_MSE =[]\n",
        "\n",
        "  #model data training untuk setiap nilai K\n",
        "  for i in K:\n",
        "    model = KNN_Reg(n_neighbors=i)\n",
        "    model.fit(x_train, y_train)\n",
        "    temp = model.predict(x_test)\n",
        "    temp = mse(temp, y_test)\n",
        "    test_MSE.append(temp)\n",
        "  \n",
        "  return test_MSE"
      ],
      "execution_count": 299,
      "outputs": []
    },
    {
      "cell_type": "code",
      "metadata": {
        "colab": {
          "base_uri": "https://localhost:8080/",
          "height": 312
        },
        "id": "spqvyouSERDW",
        "outputId": "ab87954d-8c41-4c73-d7f2-baa7407d4097"
      },
      "source": [
        "K = range(5, 100)\n",
        "test = Elbow(K)\n",
        "\n",
        "#plotting\n",
        "plt.plot(K,test)\n",
        "plt.xlabel('K Neighbors')\n",
        "plt.ylabel('Mean Squared Error (MSE)')\n",
        "plt.title('Elbow Curve for Test')"
      ],
      "execution_count": 318,
      "outputs": [
        {
          "output_type": "execute_result",
          "data": {
            "text/plain": [
              "Text(0.5, 1.0, 'Elbow Curve for Test')"
            ]
          },
          "metadata": {
            "tags": []
          },
          "execution_count": 318
        },
        {
          "output_type": "display_data",
          "data": {
            "image/png": "[encoded data removed]",
            "text/plain": [
              "<Figure size 432x288 with 1 Axes>"
            ]
          },
          "metadata": {
            "tags": [],
            "needs_background": "light"
          }
        }
      ]
    },
    {
      "cell_type": "code",
      "metadata": {
        "colab": {
          "base_uri": "https://localhost:8080/"
        },
        "id": "AZ9TKkobEUQN",
        "outputId": "fb0c09b9-7038-438c-ec84-1336447c42b5"
      },
      "source": [
        "new_model = KNN_Reg(n_neighbors=7)\n",
        "\n",
        "# Model Training\n",
        "new_model.fit(x_train, y_train)\n",
        "test2 = new_model.score(x_test, y_test)\n",
        "\n",
        "# Prediksi test\n",
        "print(' Akurasi Model Baru (%):', test2*100, '\\n', 'Akurasi Model Lama (%):', test1*100, '\\n Perbaikan (%):', (test2-test1)*100)"
      ],
      "execution_count": 301,
      "outputs": [
        {
          "output_type": "stream",
          "text": [
            " Akurasi Model Baru (%): 79.21920029227451 \n",
            " Akurasi Model Lama (%): 61.32581085267351 \n",
            " Perbaikan (%): 17.893389439600995\n"
          ],
          "name": "stdout"
        }
      ]
    },
    {
      "cell_type": "code",
      "metadata": {
        "colab": {
          "base_uri": "https://localhost:8080/",
          "height": 312
        },
        "id": "jk-OQmXAyuPp",
        "outputId": "59d82469-9698-45d2-a58c-cf6b116c121b"
      },
      "source": [
        "np.corrcoef(data['price'], data['year'])\n",
        "plt.scatter(data['year'], data['price'])\n",
        "plt.xlabel(\"year\")\n",
        "plt.ylabel(\"price\")\n",
        "plt.title(\"Harga per Tahun\")"
      ],
      "execution_count": 314,
      "outputs": [
        {
          "output_type": "execute_result",
          "data": {
            "text/plain": [
              "Text(0.5, 1.0, 'Harga per Tahun')"
            ]
          },
          "metadata": {
            "tags": []
          },
          "execution_count": 314
        },
        {
          "output_type": "display_data",
          "data": {
            "image/png": "[encoded data removed]",
            "text/plain": [
              "<Figure size 432x288 with 1 Axes>"
            ]
          },
          "metadata": {
            "tags": [],
            "needs_background": "light"
          }
        }
      ]
    },
    {
      "cell_type": "code",
      "metadata": {
        "colab": {
          "base_uri": "https://localhost:8080/"
        },
        "id": "scEGoESsrEuV",
        "outputId": "c4667b14-05a8-43c8-8b5b-b3270c9c6169"
      },
      "source": [
        "data_BMW_bekas = np.array([[2019,5000,145,30.2,2]])\n",
        "prediction_old = model.predict(data_BMW_bekas)\n",
        "prediction_new = new_model.predict(data_BMW_bekas)\n",
        "print(' Hasil Prediksi harga BMW dengan Model Prediksi Lama: £', prediction_old, 'atau jika dirupiahkan yaitu: Rp', prediction_old * 19110*1e-6, 'Juta\\n\\n',\n",
        "      'Hasil Prediksi harga BMW dengan Model Prediksi Baru: £', prediction_new, 'atau jika dirupiahkan yaitu: Rp', prediction_new * 19110*1e-6, 'Juta')"
      ],
      "execution_count": 311,
      "outputs": [
        {
          "output_type": "stream",
          "text": [
            " Hasil Prediksi harga BMW dengan Model Prediksi Lama: £ [19750.] atau jika dirupiahkan yaitu: Rp [377.4225] Juta\n",
            "\n",
            " Hasil Prediksi harga BMW dengan Model Prediksi Baru: £ [15126.57142857] atau jika dirupiahkan yaitu: Rp [289.06878] Juta\n"
          ],
          "name": "stdout"
        }
      ]
    }
  ]
}