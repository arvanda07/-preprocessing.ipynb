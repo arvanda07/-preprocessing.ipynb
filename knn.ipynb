{
  "nbformat": 4,
  "nbformat_minor": 0,
  "metadata": {
    "colab": {
      "name": "knn.ipynb",
      "provenance": [],
      "authorship_tag": "ABX9TyOhCABJJsh1C/RPgcNwbwJI",
      "include_colab_link": true
    },
    "kernelspec": {
      "name": "python3",
      "display_name": "Python 3"
    },
    "language_info": {
      "name": "python"
    }
  },
  "cells": [
    {
      "cell_type": "markdown",
      "metadata": {
        "id": "view-in-github",
        "colab_type": "text"
      },
      "source": [
        "<a href=\"https://colab.research.google.com/github/arvanda07/-preprocessing.ipynb/blob/main/knn.ipynb\" target=\"_parent\"><img src=\"https://colab.research.google.com/assets/colab-badge.svg\" alt=\"Open In Colab\"/></a>"
      ]
    },
    {
      "cell_type": "code",
      "metadata": {
        "id": "p0XbDnzjtHWS"
      },
      "source": [
        "import numpy as np\n",
        "import matplotlib.pyplot as plt\n",
        "import pandas as pd"
      ],
      "execution_count": 335,
      "outputs": []
    },
    {
      "cell_type": "code",
      "metadata": {
        "id": "bTOWM2GcwAVW"
      },
      "source": [
        "dataset = pd.read_csv(\"percentage_of_schools_with_electricity_2013-2016.csv\")\n",
        "x = dataset.iloc[:, [2, 3]].values\n",
        "y = dataset.iloc[:, -1].values"
      ],
      "execution_count": 336,
      "outputs": []
    },
    {
      "cell_type": "code",
      "metadata": {
        "colab": {
          "base_uri": "https://localhost:8080/"
        },
        "id": "T4CZsmyLws8o",
        "outputId": "47a66715-38bb-4b38-fbcd-8b1f2441e8b1"
      },
      "source": [
        "print (x)"
      ],
      "execution_count": 337,
      "outputs": [
        {
          "output_type": "stream",
          "text": [
            "[[ 82.42  96.05]\n",
            " [ 80.72  96.3 ]\n",
            " [ 82.11  97.62]\n",
            " [ 87.66  93.57]\n",
            " [ 91.08  94.7 ]\n",
            " [ 91.65  95.62]\n",
            " [ 19.72  53.59]\n",
            " [ 21.53  54.96]\n",
            " [ 22.64  53.87]\n",
            " [  9.51  51.14]\n",
            " [ 11.5   56.42]\n",
            " [ 12.76  58.5 ]\n",
            " [  4.12  13.04]\n",
            " [ 13.76  36.32]\n",
            " [ 22.28  53.42]\n",
            " [100.   100.  ]\n",
            " [100.   100.  ]\n",
            " [100.   100.  ]\n",
            " [ 49.75  84.67]\n",
            " [ 60.51  88.83]\n",
            " [ 66.51  90.56]\n",
            " [ 93.92 100.  ]\n",
            " [ 97.16 100.  ]\n",
            " [100.   100.  ]\n",
            " [100.   100.  ]\n",
            " [100.   100.  ]\n",
            " [100.   100.  ]\n",
            " [100.   100.  ]\n",
            " [100.   100.  ]\n",
            " [100.   100.  ]\n",
            " [ 98.83 100.  ]\n",
            " [ 98.69 100.  ]\n",
            " [ 99.79 100.  ]\n",
            " [ 99.33  99.86]\n",
            " [ 99.27  99.87]\n",
            " [ 99.23  99.86]\n",
            " [ 98.87  99.58]\n",
            " [ 98.61  99.7 ]\n",
            " [ 98.7   99.96]\n",
            " [ 94.76  97.91]\n",
            " [ 93.99  97.95]\n",
            " [ 96.13  99.  ]\n",
            " [ 10.05  22.48]\n",
            " [ 11.67  25.67]\n",
            " [ 16.01  30.77]\n",
            " [  7.99  20.3 ]\n",
            " [  8.48  23.77]\n",
            " [  9.3   26.06]\n",
            " [ 96.37  98.37]\n",
            " [ 97.05  98.7 ]\n",
            " [ 96.81  98.81]\n",
            " [ 93.57  98.03]\n",
            " [ 94.85  98.85]\n",
            " [ 95.57  98.96]\n",
            " [100.   100.  ]\n",
            " [100.   100.  ]\n",
            " [100.   100.  ]\n",
            " [ 12.89  83.37]\n",
            " [ 11.84  84.03]\n",
            " [ 11.31  85.17]\n",
            " [ 89.44  96.67]\n",
            " [ 90.75  97.33]\n",
            " [ 90.62  97.29]\n",
            " [  9.53  42.06]\n",
            " [  9.73  42.42]\n",
            " [ 14.64  61.95]\n",
            " [ 13.83  54.14]\n",
            " [ 14.86  60.53]\n",
            " [ 15.61  56.28]\n",
            " [ 61.97  82.03]\n",
            " [ 64.07  78.37]\n",
            " [ 65.66  80.72]\n",
            " [ 18.38  54.55]\n",
            " [ 18.07  40.54]\n",
            " [ 22.85  62.72]\n",
            " [ 13.09  38.44]\n",
            " [ 13.89  41.16]\n",
            " [ 15.49  44.79]\n",
            " [100.   100.  ]\n",
            " [100.   100.  ]\n",
            " [100.   100.  ]\n",
            " [ 99.93  99.71]\n",
            " [ 99.86  99.85]\n",
            " [ 99.94  99.77]\n",
            " [ 22.56  68.04]\n",
            " [ 19.05  69.76]\n",
            " [ 19.84  72.31]\n",
            " [ 56.69  82.39]\n",
            " [ 59.16  81.68]\n",
            " [ 73.8   94.2 ]\n",
            " [ 97.21  99.13]\n",
            " [ 97.77  99.39]\n",
            " [ 98.59  99.66]\n",
            " [ 87.24  94.47]\n",
            " [ 87.27  94.67]\n",
            " [ 13.03  11.17]\n",
            " [ 13.62  13.45]\n",
            " [ 14.72  15.46]\n",
            " [ 48.32  70.54]\n",
            " [ 49.64  71.85]]\n"
          ],
          "name": "stdout"
        }
      ]
    },
    {
      "cell_type": "code",
      "metadata": {
        "colab": {
          "base_uri": "https://localhost:8080/"
        },
        "id": "fD_VQO9rwwgM",
        "outputId": "19e8b74a-e00d-4113-9d1d-f366cea76a4f"
      },
      "source": [
        "print (y)"
      ],
      "execution_count": 338,
      "outputs": [
        {
          "output_type": "stream",
          "text": [
            "[0 1 0 0 0 1 0 1 0 0 1 0 0 1 0 0 1 1 1 1 1 1 1 1 1 1 1 1 0 0 0 1 0 0 0 0 0\n",
            " 0 1 0 0 1 0 0 0 1 0 0 1 0 0 0 1 0 0 0 1 0 1 0 0 0 1 1 0 0 1 0 0 1 0 0 0 1\n",
            " 0 1 0 1 0 0 0 1 0 0 1 1 0 1 1 1 0 0 1 1 1 1 0 1 0 1]\n"
          ],
          "name": "stdout"
        }
      ]
    },
    {
      "cell_type": "code",
      "metadata": {
        "id": "3vkDehjCwy1b"
      },
      "source": [
        "from sklearn.model_selection import train_test_split\n",
        "X_train, X_test, y_train, y_test = train_test_split(x, y, test_size = 0.25, random_state = 0)"
      ],
      "execution_count": 339,
      "outputs": []
    },
    {
      "cell_type": "code",
      "metadata": {
        "colab": {
          "base_uri": "https://localhost:8080/"
        },
        "id": "QwVjxTUDxFlI",
        "outputId": "9958c8d4-e52c-4ab7-9600-d55814793b96"
      },
      "source": [
        "print (X_train)"
      ],
      "execution_count": 340,
      "outputs": [
        {
          "output_type": "stream",
          "text": [
            "[[ 96.37  98.37]\n",
            " [ 19.72  53.59]\n",
            " [ 49.64  71.85]\n",
            " [ 99.86  99.85]\n",
            " [ 13.89  41.16]\n",
            " [ 89.44  96.67]\n",
            " [100.   100.  ]\n",
            " [ 97.21  99.13]\n",
            " [ 15.61  56.28]\n",
            " [ 93.57  98.03]\n",
            " [100.   100.  ]\n",
            " [ 49.75  84.67]\n",
            " [100.   100.  ]\n",
            " [  9.53  42.06]\n",
            " [ 22.85  62.72]\n",
            " [ 80.72  96.3 ]\n",
            " [ 90.75  97.33]\n",
            " [ 10.05  22.48]\n",
            " [ 96.13  99.  ]\n",
            " [ 91.08  94.7 ]\n",
            " [100.   100.  ]\n",
            " [100.   100.  ]\n",
            " [ 93.99  97.95]\n",
            " [ 98.7   99.96]\n",
            " [ 91.65  95.62]\n",
            " [ 97.77  99.39]\n",
            " [ 11.31  85.17]\n",
            " [ 82.42  96.05]\n",
            " [ 99.27  99.87]\n",
            " [100.   100.  ]\n",
            " [ 96.81  98.81]\n",
            " [ 12.76  58.5 ]\n",
            " [ 99.23  99.86]\n",
            " [100.   100.  ]\n",
            " [ 94.85  98.85]\n",
            " [ 11.5   56.42]\n",
            " [ 98.69 100.  ]\n",
            " [ 13.83  54.14]\n",
            " [ 12.89  83.37]\n",
            " [100.   100.  ]\n",
            " [ 19.05  69.76]\n",
            " [ 99.79 100.  ]\n",
            " [ 22.56  68.04]\n",
            " [ 22.28  53.42]\n",
            " [ 73.8   94.2 ]\n",
            " [ 60.51  88.83]\n",
            " [100.   100.  ]\n",
            " [ 97.05  98.7 ]\n",
            " [ 14.72  15.46]\n",
            " [ 48.32  70.54]\n",
            " [ 61.97  82.03]\n",
            " [ 66.51  90.56]\n",
            " [ 87.27  94.67]\n",
            " [ 18.38  54.55]\n",
            " [ 15.49  44.79]\n",
            " [100.   100.  ]\n",
            " [ 98.61  99.7 ]\n",
            " [ 99.93  99.71]\n",
            " [  8.48  23.77]\n",
            " [ 94.76  97.91]\n",
            " [ 14.64  61.95]\n",
            " [ 11.84  84.03]\n",
            " [  4.12  13.04]\n",
            " [ 59.16  81.68]\n",
            " [ 64.07  78.37]\n",
            " [ 56.69  82.39]\n",
            " [ 98.87  99.58]\n",
            " [ 93.92 100.  ]\n",
            " [ 99.94  99.77]\n",
            " [  9.51  51.14]\n",
            " [ 13.62  13.45]\n",
            " [ 14.86  60.53]\n",
            " [  9.73  42.42]\n",
            " [  9.3   26.06]\n",
            " [ 16.01  30.77]]\n"
          ],
          "name": "stdout"
        }
      ]
    },
    {
      "cell_type": "code",
      "metadata": {
        "colab": {
          "base_uri": "https://localhost:8080/"
        },
        "id": "yWtXFzpaxG1O",
        "outputId": "4c69aa0f-c488-40fb-e52d-17b0fcd259ef"
      },
      "source": [
        "print (X_test)"
      ],
      "execution_count": 341,
      "outputs": [
        {
          "output_type": "stream",
          "text": [
            "[[100.   100.  ]\n",
            " [ 19.84  72.31]\n",
            " [ 82.11  97.62]\n",
            " [100.   100.  ]\n",
            " [ 13.09  38.44]\n",
            " [ 87.24  94.47]\n",
            " [100.   100.  ]\n",
            " [ 18.07  40.54]\n",
            " [100.   100.  ]\n",
            " [ 13.03  11.17]\n",
            " [ 95.57  98.96]\n",
            " [ 98.59  99.66]\n",
            " [100.   100.  ]\n",
            " [ 13.76  36.32]\n",
            " [ 21.53  54.96]\n",
            " [ 98.83 100.  ]\n",
            " [ 97.16 100.  ]\n",
            " [100.   100.  ]\n",
            " [ 99.33  99.86]\n",
            " [ 22.64  53.87]\n",
            " [ 11.67  25.67]\n",
            " [ 90.62  97.29]\n",
            " [ 87.66  93.57]\n",
            " [ 65.66  80.72]\n",
            " [  7.99  20.3 ]]\n"
          ],
          "name": "stdout"
        }
      ]
    },
    {
      "cell_type": "code",
      "metadata": {
        "colab": {
          "base_uri": "https://localhost:8080/"
        },
        "id": "sneJ_q2axKDu",
        "outputId": "f8d7c674-efba-4eef-951a-a4a29e96d334"
      },
      "source": [
        "print (y_train)"
      ],
      "execution_count": 342,
      "outputs": [
        {
          "output_type": "stream",
          "text": [
            "[1 0 1 0 0 0 0 0 0 0 1 1 1 1 0 1 0 0 1 0 0 1 0 1 1 0 0 0 0 0 0 0 0 1 1 1 1\n",
            " 1 0 0 1 0 1 0 1 1 0 0 1 0 1 1 1 0 1 1 0 1 0 0 0 1 0 1 0 1 0 1 0 0 0 0 0 0\n",
            " 0]\n"
          ],
          "name": "stdout"
        }
      ]
    },
    {
      "cell_type": "code",
      "metadata": {
        "colab": {
          "base_uri": "https://localhost:8080/"
        },
        "id": "SuTruvfgxPJa",
        "outputId": "1a1a23f4-a18c-41b3-dd9f-82e24c78c446"
      },
      "source": [
        "print (y_test)"
      ],
      "execution_count": 343,
      "outputs": [
        {
          "output_type": "stream",
          "text": [
            "[1 0 0 0 1 1 1 1 0 1 0 1 0 1 1 0 1 1 0 0 0 1 0 0 1]\n"
          ],
          "name": "stdout"
        }
      ]
    },
    {
      "cell_type": "code",
      "metadata": {
        "id": "gSkW93T9xQf_"
      },
      "source": [
        "from sklearn.preprocessing import StandardScaler\n",
        "sc = StandardScaler()\n",
        "X_train = sc.fit_transform(X_train)\n",
        "X_test = sc.transform(X_test)"
      ],
      "execution_count": 344,
      "outputs": []
    },
    {
      "cell_type": "code",
      "metadata": {
        "colab": {
          "base_uri": "https://localhost:8080/"
        },
        "id": "sF8PgIfJD4rV",
        "outputId": "d972081d-5880-498d-aa27-2514e52df5de"
      },
      "source": [
        "print (X_train)"
      ],
      "execution_count": 345,
      "outputs": [
        {
          "output_type": "stream",
          "text": [
            "[[ 0.90960485  0.75068215]\n",
            " [-1.10146792 -0.9669908 ]\n",
            " [-0.31645426 -0.26657302]\n",
            " [ 1.00117228  0.80745205]\n",
            " [-1.25443014 -1.44378122]\n",
            " [ 0.72778183  0.68547349]\n",
            " [ 1.00484547  0.81320575]\n",
            " [ 0.931644    0.77983426]\n",
            " [-1.20930235 -0.86380768]\n",
            " [ 0.836141    0.73764042]\n",
            " [ 1.00484547  0.81320575]\n",
            " [-0.31356818  0.22517703]\n",
            " [ 1.00484547  0.81320575]\n",
            " [-1.36882385 -1.40925898]\n",
            " [-1.01934584 -0.61678191]\n",
            " [ 0.49899442  0.67128101]\n",
            " [ 0.76215241  0.71078979]\n",
            " [-1.35518056 -2.16030937]\n",
            " [ 0.90330795  0.77484772]\n",
            " [ 0.77081065  0.60990815]\n",
            " [ 1.00484547  0.81320575]\n",
            " [ 1.00484547  0.81320575]\n",
            " [ 0.84716058  0.73457178]\n",
            " [ 0.97073726  0.81167143]\n",
            " [ 0.78576579  0.64519755]\n",
            " [ 0.94633677  0.78980735]\n",
            " [-1.32212183  0.24435605]\n",
            " [ 0.54359747  0.6616915 ]\n",
            " [ 0.9856924   0.80821921]\n",
            " [ 1.00484547  0.81320575]\n",
            " [ 0.92114916  0.76755969]\n",
            " [-1.28407805 -0.77865283]\n",
            " [ 0.98464292  0.80783563]\n",
            " [ 1.00484547  0.81320575]\n",
            " [ 0.86972447  0.76909401]\n",
            " [-1.31713678 -0.85843755]\n",
            " [ 0.97047489  0.81320575]\n",
            " [-1.25600437 -0.94589388]\n",
            " [-1.28066723  0.17531158]\n",
            " [ 1.00484547  0.81320575]\n",
            " [-1.11904677 -0.34674132]\n",
            " [ 0.99933569  0.81320575]\n",
            " [-1.02695459 -0.41271715]\n",
            " [-1.03430098 -0.97351167]\n",
            " [ 0.31743378  0.59072913]\n",
            " [-0.03125712  0.38474647]\n",
            " [ 1.00484547  0.81320575]\n",
            " [ 0.92744607  0.7633403 ]\n",
            " [-1.23265336 -2.4295828 ]\n",
            " [-0.35108722 -0.31682205]\n",
            " [ 0.00704903  0.12391181]\n",
            " [ 0.12616541  0.45110587]\n",
            " [ 0.67084735  0.60875741]\n",
            " [-1.13662562 -0.93016708]\n",
            " [-1.2124508  -1.30454154]\n",
            " [ 1.00484547  0.81320575]\n",
            " [ 0.96837592  0.80169834]\n",
            " [ 1.00300888  0.80208192]\n",
            " [-1.39637279 -2.1108275 ]\n",
            " [ 0.86736314  0.73303745]\n",
            " [-1.23475233 -0.6463176 ]\n",
            " [-1.30821617  0.20062788]\n",
            " [-1.51076649 -2.52240925]\n",
            " [-0.06667719  0.11048649]\n",
            " [ 0.06214691 -0.01647861]\n",
            " [-0.13148279  0.1377207 ]\n",
            " [ 0.97519757  0.79709538]\n",
            " [ 0.84532398  0.81320575]\n",
            " [ 1.00327125  0.80438341]\n",
            " [-1.36934859 -1.060968  ]\n",
            " [-1.26151416 -2.50668246]\n",
            " [-1.22898017 -0.70078602]\n",
            " [-1.36357643 -1.39545009]\n",
            " [-1.37485838 -2.0229876 ]\n",
            " [-1.19880752 -1.84232124]]\n"
          ],
          "name": "stdout"
        }
      ]
    },
    {
      "cell_type": "code",
      "metadata": {
        "colab": {
          "base_uri": "https://localhost:8080/"
        },
        "id": "nYB4k9ohD8nS",
        "outputId": "75856b81-1060-4a9f-ab77-7500c631909e"
      },
      "source": [
        "print (X_test)"
      ],
      "execution_count": 346,
      "outputs": [
        {
          "output_type": "stream",
          "text": [
            "[[ 1.00484547  0.81320575]\n",
            " [-1.09831947 -0.24892833]\n",
            " [ 0.53546398  0.72191362]\n",
            " [ 1.00484547  0.81320575]\n",
            " [-1.27541981 -1.54811508]\n",
            " [ 0.67006024  0.6010858 ]\n",
            " [ 1.00484547  0.81320575]\n",
            " [-1.14475912 -1.4675632 ]\n",
            " [ 1.00484547  0.81320575]\n",
            " [-1.27699404 -2.59413879]\n",
            " [ 0.88861518  0.77331339]\n",
            " [ 0.96785118  0.80016402]\n",
            " [ 1.00484547  0.81320575]\n",
            " [-1.25784097 -1.62943412]\n",
            " [-1.05397879 -0.91444029]\n",
            " [ 0.97414808  0.81320575]\n",
            " [ 0.93033215  0.81320575]\n",
            " [ 1.00484547  0.81320575]\n",
            " [ 0.98726663  0.80783563]\n",
            " [-1.02485563 -0.95625055]\n",
            " [-1.31267648 -2.03794723]\n",
            " [ 0.75874159  0.70925547]\n",
            " [ 0.68107981  0.56656357]\n",
            " [ 0.10386388  0.07366278]\n",
            " [-1.40922896 -2.2439299 ]]\n"
          ],
          "name": "stdout"
        }
      ]
    },
    {
      "cell_type": "code",
      "metadata": {
        "colab": {
          "base_uri": "https://localhost:8080/"
        },
        "id": "UjUXYLabxSXs",
        "outputId": "4e1f93c6-329e-4859-f45f-07b7dbc5802d"
      },
      "source": [
        "from sklearn.neighbors import KNeighborsClassifier\n",
        "classifier = KNeighborsClassifier(n_neighbors = 5, metric = 'minkowski', p = 2)\n",
        "classifier.fit(X_train, y_train)"
      ],
      "execution_count": 347,
      "outputs": [
        {
          "output_type": "execute_result",
          "data": {
            "text/plain": [
              "KNeighborsClassifier(algorithm='auto', leaf_size=30, metric='minkowski',\n",
              "                     metric_params=None, n_jobs=None, n_neighbors=5, p=2,\n",
              "                     weights='uniform')"
            ]
          },
          "metadata": {
            "tags": []
          },
          "execution_count": 347
        }
      ]
    },
    {
      "cell_type": "code",
      "metadata": {
        "id": "KO3g7A5D6VAY"
      },
      "source": [
        "y_pred = classifier.predict(X_test)"
      ],
      "execution_count": 348,
      "outputs": []
    },
    {
      "cell_type": "code",
      "metadata": {
        "colab": {
          "base_uri": "https://localhost:8080/"
        },
        "id": "FgkzL2rOBh_S",
        "outputId": "e7e1b153-ced4-4f59-ccba-28055cd3619c"
      },
      "source": [
        "from sklearn.metrics import confusion_matrix\n",
        "cm = confusion_matrix(y_test, y_pred)\n",
        "print(cm)"
      ],
      "execution_count": 349,
      "outputs": [
        {
          "output_type": "stream",
          "text": [
            "[[10  2]\n",
            " [13  0]]\n"
          ],
          "name": "stdout"
        }
      ]
    },
    {
      "cell_type": "code",
      "metadata": {
        "colab": {
          "base_uri": "https://localhost:8080/",
          "height": 351
        },
        "id": "O0V_mDxzBlhk",
        "outputId": "c32d4564-473a-4df8-beda-3ffe7853d2a7"
      },
      "source": [
        "from matplotlib.colors import ListedColormap\n",
        "X_set, y_set = X_train, y_train\n",
        "X1, X2 = np.meshgrid(np.arange(start = X_set[:, 0].min() - 1, stop = X_set[:, 0].max() + 1, step = 0.01),\n",
        "                     np.arange(start = X_set[:, 1].min() - 1, stop = X_set[:, 1].max() + 1, step = 0.01))\n",
        "plt.contourf(X1, X2, classifier.predict(np.array([X1.ravel(), X2.ravel()]).T).reshape(X1.shape), \n",
        "             alpha = 0.75, cmap = ListedColormap(('red','green')))\n",
        "plt.xlim(X1.min(), X1.max())\n",
        "plt.ylim(X2.min(), X2.max())\n",
        "for i, j in enumerate(np.unique(y_set)):\n",
        "  plt.scatter(X_set[y_set == j, 0], X_set[y_set == j, 1], c = ListedColormap(('red','blue'))(i), label = j)\n",
        "plt.title('K-NN (Training set)')\n",
        "plt.xlabel('Primary_Only')\n",
        "plt.ylabel('Primary_with_U_Primary')\n",
        "plt.legend()\n",
        "plt.show()"
      ],
      "execution_count": 350,
      "outputs": [
        {
          "output_type": "stream",
          "text": [
            "*c* argument looks like a single numeric RGB or RGBA sequence, which should be avoided as value-mapping will have precedence in case its length matches with *x* & *y*.  Please use the *color* keyword-argument or provide a 2-D array with a single row if you intend to specify the same RGB or RGBA value for all points.\n",
            "*c* argument looks like a single numeric RGB or RGBA sequence, which should be avoided as value-mapping will have precedence in case its length matches with *x* & *y*.  Please use the *color* keyword-argument or provide a 2-D array with a single row if you intend to specify the same RGB or RGBA value for all points.\n"
          ],
          "name": "stderr"
        },
        {
          "output_type": "display_data",
          "data": {
            "image/png": "[encoded data removed]",
            "text/plain": [
              "<Figure size 432x288 with 1 Axes>"
            ]
          },
          "metadata": {
            "tags": [],
            "needs_background": "light"
          }
        }
      ]
    },
    {
      "cell_type": "code",
      "metadata": {
        "colab": {
          "base_uri": "https://localhost:8080/",
          "height": 351
        },
        "id": "VEDDJEZsDa3p",
        "outputId": "b9fa49fc-6bdf-47a6-d411-d50134bacf21"
      },
      "source": [
        "from matplotlib.colors import ListedColormap\n",
        "X_set, y_set = X_test, y_test\n",
        "X1, X2 = np.meshgrid(np.arange(start = X_set[:, 0].min() - 1, stop = X_set[:, 0].max() + 1, step = 0.01),\n",
        "                     np.arange(start = X_set[:, 1].min() - 1, stop = X_set[:, 1].max() + 1, step = 0.01))\n",
        "plt.contourf(X1, X2, classifier.predict(np.array([X1.ravel(), X2.ravel()]).T).reshape(X1.shape), \n",
        "             alpha = 0.75, cmap = ListedColormap(('red','green')))\n",
        "plt.xlim(X1.min(), X1.max())\n",
        "plt.ylim(X2.min(), X2.max())\n",
        "for i, j in enumerate(np.unique(y_set)):\n",
        "  plt.scatter(X_set[y_set == j, 0], X_set[y_set == j, 1], c = ListedColormap(('red','blue'))(i), label = j)\n",
        "plt.title('K-NN (Test set)')\n",
        "plt.xlabel('Primary_Only')\n",
        "plt.ylabel('Primary_with_U_Primary')\n",
        "plt.legend()\n",
        "plt.show()"
      ],
      "execution_count": 351,
      "outputs": [
        {
          "output_type": "stream",
          "text": [
            "*c* argument looks like a single numeric RGB or RGBA sequence, which should be avoided as value-mapping will have precedence in case its length matches with *x* & *y*.  Please use the *color* keyword-argument or provide a 2-D array with a single row if you intend to specify the same RGB or RGBA value for all points.\n",
            "*c* argument looks like a single numeric RGB or RGBA sequence, which should be avoided as value-mapping will have precedence in case its length matches with *x* & *y*.  Please use the *color* keyword-argument or provide a 2-D array with a single row if you intend to specify the same RGB or RGBA value for all points.\n"
          ],
          "name": "stderr"
        },
        {
          "output_type": "display_data",
          "data": {
            "image/png": "[encoded data removed]",
            "text/plain": [
              "<Figure size 432x288 with 1 Axes>"
            ]
          },
          "metadata": {
            "tags": [],
            "needs_background": "light"
          }
        }
      ]
    }
  ]
}