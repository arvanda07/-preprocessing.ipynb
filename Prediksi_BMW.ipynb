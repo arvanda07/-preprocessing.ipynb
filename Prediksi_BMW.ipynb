{
  "nbformat": 4,
  "nbformat_minor": 0,
  "metadata": {
    "colab": {
      "name": "Prediksi_BMW.ipynb",
      "provenance": [],
      "collapsed_sections": [],
      "authorship_tag": "ABX9TyMKxqUhRAJq0GU31A1R239u",
      "include_colab_link": true
    },
    "kernelspec": {
      "name": "python3",
      "display_name": "Python 3"
    },
    "language_info": {
      "name": "python"
    }
  },
  "cells": [
    {
      "cell_type": "markdown",
      "metadata": {
        "id": "view-in-github",
        "colab_type": "text"
      },
      "source": [
        "<a href=\"https://colab.research.google.com/github/arvanda07/-preprocessing.ipynb/blob/main/Prediksi_BMW.ipynb\" target=\"_parent\"><img src=\"https://colab.research.google.com/assets/colab-badge.svg\" alt=\"Open In Colab\"/></a>"
      ]
    },
    {
      "cell_type": "code",
      "metadata": {
        "id": "X6Jh4UqC46AT"
      },
      "source": [
        "import numpy as np\n",
        "import matplotlib.pyplot as plt\n",
        "import pandas as pd\n",
        "import seaborn as sns"
      ],
      "execution_count": 80,
      "outputs": []
    },
    {
      "cell_type": "code",
      "metadata": {
        "colab": {
          "base_uri": "https://localhost:8080/",
          "height": 202
        },
        "id": "F2kGnOzD4_1l",
        "outputId": "4156cb51-eacc-4fc7-eef9-83c2bd63356f"
      },
      "source": [
        "dataset = pd.read_csv(\"Dataset_Prediksi_BMW.csv\")\n",
        "dataset.head()"
      ],
      "execution_count": 81,
      "outputs": [
        {
          "output_type": "execute_result",
          "data": {
            "text/html": [
              "<div>\n",
              "<style scoped>\n",
              "    .dataframe tbody tr th:only-of-type {\n",
              "        vertical-align: middle;\n",
              "    }\n",
              "\n",
              "    .dataframe tbody tr th {\n",
              "        vertical-align: top;\n",
              "    }\n",
              "\n",
              "    .dataframe thead th {\n",
              "        text-align: right;\n",
              "    }\n",
              "</style>\n",
              "<table border=\"1\" class=\"dataframe\">\n",
              "  <thead>\n",
              "    <tr style=\"text-align: right;\">\n",
              "      <th></th>\n",
              "      <th>model</th>\n",
              "      <th>year</th>\n",
              "      <th>price</th>\n",
              "      <th>engineSize</th>\n",
              "      <th>mileage</th>\n",
              "      <th>fuelType</th>\n",
              "      <th>tax</th>\n",
              "      <th>mpg</th>\n",
              "      <th>transmission</th>\n",
              "    </tr>\n",
              "  </thead>\n",
              "  <tbody>\n",
              "    <tr>\n",
              "      <th>0</th>\n",
              "      <td>5 Series</td>\n",
              "      <td>2014</td>\n",
              "      <td>11200</td>\n",
              "      <td>2.0</td>\n",
              "      <td>67068</td>\n",
              "      <td>Diesel</td>\n",
              "      <td>125</td>\n",
              "      <td>57.6</td>\n",
              "      <td>1</td>\n",
              "    </tr>\n",
              "    <tr>\n",
              "      <th>1</th>\n",
              "      <td>6 Series</td>\n",
              "      <td>2018</td>\n",
              "      <td>27000</td>\n",
              "      <td>2.0</td>\n",
              "      <td>14827</td>\n",
              "      <td>Petrol</td>\n",
              "      <td>145</td>\n",
              "      <td>42.8</td>\n",
              "      <td>1</td>\n",
              "    </tr>\n",
              "    <tr>\n",
              "      <th>2</th>\n",
              "      <td>5 Series</td>\n",
              "      <td>2016</td>\n",
              "      <td>16000</td>\n",
              "      <td>3.0</td>\n",
              "      <td>62794</td>\n",
              "      <td>Diesel</td>\n",
              "      <td>160</td>\n",
              "      <td>51.4</td>\n",
              "      <td>1</td>\n",
              "    </tr>\n",
              "    <tr>\n",
              "      <th>3</th>\n",
              "      <td>1 Series</td>\n",
              "      <td>2017</td>\n",
              "      <td>12750</td>\n",
              "      <td>1.5</td>\n",
              "      <td>26676</td>\n",
              "      <td>Diesel</td>\n",
              "      <td>145</td>\n",
              "      <td>72.4</td>\n",
              "      <td>1</td>\n",
              "    </tr>\n",
              "    <tr>\n",
              "      <th>4</th>\n",
              "      <td>7 Series</td>\n",
              "      <td>2014</td>\n",
              "      <td>14500</td>\n",
              "      <td>3.0</td>\n",
              "      <td>39554</td>\n",
              "      <td>Diesel</td>\n",
              "      <td>160</td>\n",
              "      <td>50.4</td>\n",
              "      <td>1</td>\n",
              "    </tr>\n",
              "  </tbody>\n",
              "</table>\n",
              "</div>"
            ],
            "text/plain": [
              "       model  year  price  engineSize  ...  fuelType  tax   mpg  transmission\n",
              "0   5 Series  2014  11200         2.0  ...    Diesel  125  57.6             1\n",
              "1   6 Series  2018  27000         2.0  ...    Petrol  145  42.8             1\n",
              "2   5 Series  2016  16000         3.0  ...    Diesel  160  51.4             1\n",
              "3   1 Series  2017  12750         1.5  ...    Diesel  145  72.4             1\n",
              "4   7 Series  2014  14500         3.0  ...    Diesel  160  50.4             1\n",
              "\n",
              "[5 rows x 9 columns]"
            ]
          },
          "metadata": {
            "tags": []
          },
          "execution_count": 81
        }
      ]
    },
    {
      "cell_type": "code",
      "metadata": {
        "colab": {
          "base_uri": "https://localhost:8080/",
          "height": 314
        },
        "id": "7oEBW2RAXNJz",
        "outputId": "6fe579d7-227d-44f0-b23a-d6163ebbdb21"
      },
      "source": [
        "data = dataset.dropna(axis=0)\n",
        "data.describe()"
      ],
      "execution_count": 82,
      "outputs": [
        {
          "output_type": "execute_result",
          "data": {
            "text/html": [
              "<div>\n",
              "<style scoped>\n",
              "    .dataframe tbody tr th:only-of-type {\n",
              "        vertical-align: middle;\n",
              "    }\n",
              "\n",
              "    .dataframe tbody tr th {\n",
              "        vertical-align: top;\n",
              "    }\n",
              "\n",
              "    .dataframe thead th {\n",
              "        text-align: right;\n",
              "    }\n",
              "</style>\n",
              "<table border=\"1\" class=\"dataframe\">\n",
              "  <thead>\n",
              "    <tr style=\"text-align: right;\">\n",
              "      <th></th>\n",
              "      <th>year</th>\n",
              "      <th>price</th>\n",
              "      <th>engineSize</th>\n",
              "      <th>mileage</th>\n",
              "      <th>tax</th>\n",
              "      <th>mpg</th>\n",
              "      <th>transmission</th>\n",
              "    </tr>\n",
              "  </thead>\n",
              "  <tbody>\n",
              "    <tr>\n",
              "      <th>count</th>\n",
              "      <td>1000.000000</td>\n",
              "      <td>1000.000000</td>\n",
              "      <td>1000.000000</td>\n",
              "      <td>1000.000000</td>\n",
              "      <td>1000.000000</td>\n",
              "      <td>1000.000000</td>\n",
              "      <td>1000.000000</td>\n",
              "    </tr>\n",
              "    <tr>\n",
              "      <th>mean</th>\n",
              "      <td>2017.056000</td>\n",
              "      <td>21870.522000</td>\n",
              "      <td>2.180900</td>\n",
              "      <td>24691.131000</td>\n",
              "      <td>130.090000</td>\n",
              "      <td>57.477100</td>\n",
              "      <td>1.431000</td>\n",
              "    </tr>\n",
              "    <tr>\n",
              "      <th>std</th>\n",
              "      <td>1.713418</td>\n",
              "      <td>10674.793238</td>\n",
              "      <td>0.547252</td>\n",
              "      <td>19967.542036</td>\n",
              "      <td>55.194096</td>\n",
              "      <td>30.590835</td>\n",
              "      <td>0.495464</td>\n",
              "    </tr>\n",
              "    <tr>\n",
              "      <th>min</th>\n",
              "      <td>2013.000000</td>\n",
              "      <td>6998.000000</td>\n",
              "      <td>0.000000</td>\n",
              "      <td>10.000000</td>\n",
              "      <td>0.000000</td>\n",
              "      <td>24.100000</td>\n",
              "      <td>1.000000</td>\n",
              "    </tr>\n",
              "    <tr>\n",
              "      <th>25%</th>\n",
              "      <td>2016.000000</td>\n",
              "      <td>14998.000000</td>\n",
              "      <td>2.000000</td>\n",
              "      <td>8663.750000</td>\n",
              "      <td>125.000000</td>\n",
              "      <td>47.900000</td>\n",
              "      <td>1.000000</td>\n",
              "    </tr>\n",
              "    <tr>\n",
              "      <th>50%</th>\n",
              "      <td>2017.000000</td>\n",
              "      <td>19000.000000</td>\n",
              "      <td>2.000000</td>\n",
              "      <td>20060.000000</td>\n",
              "      <td>145.000000</td>\n",
              "      <td>54.300000</td>\n",
              "      <td>1.000000</td>\n",
              "    </tr>\n",
              "    <tr>\n",
              "      <th>75%</th>\n",
              "      <td>2019.000000</td>\n",
              "      <td>25492.000000</td>\n",
              "      <td>3.000000</td>\n",
              "      <td>35500.000000</td>\n",
              "      <td>150.000000</td>\n",
              "      <td>62.800000</td>\n",
              "      <td>2.000000</td>\n",
              "    </tr>\n",
              "    <tr>\n",
              "      <th>max</th>\n",
              "      <td>2020.000000</td>\n",
              "      <td>84898.000000</td>\n",
              "      <td>4.400000</td>\n",
              "      <td>96213.000000</td>\n",
              "      <td>305.000000</td>\n",
              "      <td>470.800000</td>\n",
              "      <td>2.000000</td>\n",
              "    </tr>\n",
              "  </tbody>\n",
              "</table>\n",
              "</div>"
            ],
            "text/plain": [
              "              year         price  ...          mpg  transmission\n",
              "count  1000.000000   1000.000000  ...  1000.000000   1000.000000\n",
              "mean   2017.056000  21870.522000  ...    57.477100      1.431000\n",
              "std       1.713418  10674.793238  ...    30.590835      0.495464\n",
              "min    2013.000000   6998.000000  ...    24.100000      1.000000\n",
              "25%    2016.000000  14998.000000  ...    47.900000      1.000000\n",
              "50%    2017.000000  19000.000000  ...    54.300000      1.000000\n",
              "75%    2019.000000  25492.000000  ...    62.800000      2.000000\n",
              "max    2020.000000  84898.000000  ...   470.800000      2.000000\n",
              "\n",
              "[8 rows x 7 columns]"
            ]
          },
          "metadata": {
            "tags": []
          },
          "execution_count": 82
        }
      ]
    },
    {
      "cell_type": "code",
      "metadata": {
        "colab": {
          "base_uri": "https://localhost:8080/"
        },
        "id": "bp4Max_6XgbS",
        "outputId": "d4e5efc9-e377-4140-e7b4-a285bbf2ac63"
      },
      "source": [
        "print (dataset.dtypes)"
      ],
      "execution_count": 83,
      "outputs": [
        {
          "output_type": "stream",
          "text": [
            "model            object\n",
            "year              int64\n",
            "price             int64\n",
            "engineSize      float64\n",
            "mileage           int64\n",
            "fuelType         object\n",
            "tax               int64\n",
            "mpg             float64\n",
            "transmission      int64\n",
            "dtype: object\n"
          ],
          "name": "stdout"
        }
      ]
    },
    {
      "cell_type": "code",
      "metadata": {
        "colab": {
          "base_uri": "https://localhost:8080/",
          "height": 296
        },
        "id": "0F2Z2B3JSrcZ",
        "outputId": "d3a89730-e324-4f7b-c961-e04d2fd75056"
      },
      "source": [
        "sns.countplot(x='transmission', data=dataset)"
      ],
      "execution_count": 85,
      "outputs": [
        {
          "output_type": "execute_result",
          "data": {
            "text/plain": [
              "<matplotlib.axes._subplots.AxesSubplot at 0x7faed9e3acd0>"
            ]
          },
          "metadata": {
            "tags": []
          },
          "execution_count": 85
        },
        {
          "output_type": "display_data",
          "data": {
            "image/png": "[encoded data removed]",
            "text/plain": [
              "<Figure size 432x288 with 1 Axes>"
            ]
          },
          "metadata": {
            "tags": [],
            "needs_background": "light"
          }
        }
      ]
    },
    {
      "cell_type": "code",
      "metadata": {
        "id": "ZHUmF-uVW4Iw"
      },
      "source": [
        "x = dataset.iloc[:,[1, 2]].values\n",
        "y = dataset.iloc[:, -1].values"
      ],
      "execution_count": 86,
      "outputs": []
    },
    {
      "cell_type": "code",
      "metadata": {
        "colab": {
          "base_uri": "https://localhost:8080/"
        },
        "id": "tEYfbc2z6teh",
        "outputId": "a7154eac-7e2f-4b3a-af49-5c81d0e2deb7"
      },
      "source": [
        "print (x)"
      ],
      "execution_count": 87,
      "outputs": [
        {
          "output_type": "stream",
          "text": [
            "[[ 2014 11200]\n",
            " [ 2018 27000]\n",
            " [ 2016 16000]\n",
            " ...\n",
            " [ 2018 19998]\n",
            " [ 2016 16998]\n",
            " [ 2016 14298]]\n"
          ],
          "name": "stdout"
        }
      ]
    },
    {
      "cell_type": "code",
      "metadata": {
        "colab": {
          "base_uri": "https://localhost:8080/"
        },
        "id": "nhs8TFP46wx3",
        "outputId": "7681486b-b610-4437-e00e-423e9be7647e"
      },
      "source": [
        "print (y)"
      ],
      "execution_count": 88,
      "outputs": [
        {
          "output_type": "stream",
          "text": [
            "[1 1 1 1 1 2 2 2 2 2 2 2 1 2 1 2 1 1 1 1 1 1 2 2 2 2 2 2 2 1 1 1 1 1 2 1 2\n",
            " 2 1 1 2 2 1 1 1 1 1 1 2 1 1 1 1 1 2 2 2 2 2 2 2 1 1 1 2 2 2 2 2 1 2 2 2 1\n",
            " 2 2 1 2 1 2 1 1 1 1 1 2 1 1 1 1 1 2 2 2 2 2 1 2 2 1 1 1 2 1 1 1 1 2 2 2 1\n",
            " 1 2 1 1 1 1 2 1 2 1 1 1 2 1 1 1 1 1 2 1 1 1 1 1 1 2 2 2 2 1 2 2 2 1 2 2 1\n",
            " 2 1 2 1 1 1 1 2 2 1 2 1 2 1 1 2 2 1 1 1 1 1 2 1 1 1 2 2 2 2 1 1 1 1 2 1 1\n",
            " 1 2 2 2 2 2 1 2 2 1 2 1 2 1 1 2 2 1 2 2 1 2 1 2 1 1 1 1 1 1 1 2 1 1 2 2 1\n",
            " 2 2 2 1 2 2 2 1 2 2 1 2 1 2 1 1 1 1 2 2 1 2 1 2 1 1 1 1 1 1 1 2 1 1 2 2 1\n",
            " 1 2 2 1 2 1 1 1 1 2 2 2 1 1 1 2 2 1 1 1 1 2 2 2 2 2 2 2 2 1 1 1 2 2 2 2 2\n",
            " 2 1 2 1 1 1 1 1 1 1 1 1 1 2 2 2 2 2 2 2 1 1 1 1 2 2 2 1 1 1 2 2 1 1 1 2 1\n",
            " 2 2 1 2 2 2 2 2 1 1 2 1 2 2 1 2 1 2 2 2 1 1 1 1 1 2 2 2 1 2 1 1 1 1 2 2 2\n",
            " 1 1 1 1 2 1 2 1 1 2 2 2 2 2 2 2 1 1 1 1 2 2 1 2 1 2 1 1 2 2 2 2 1 2 1 1 2\n",
            " 2 1 2 2 2 1 2 1 1 1 1 2 2 2 1 1 1 2 2 2 2 1 2 1 1 1 1 2 2 2 1 1 2 2 2 1 2\n",
            " 2 1 2 1 2 1 1 2 2 2 2 2 2 2 1 2 2 2 2 2 2 2 2 2 1 1 2 2 1 1 1 1 1 1 1 1 1\n",
            " 1 1 1 1 1 1 1 1 1 1 1 1 1 2 1 1 1 2 2 2 2 2 1 2 2 1 1 2 2 2 1 1 1 1 1 1 1\n",
            " 2 2 1 1 1 1 1 2 2 2 1 1 2 2 1 1 2 1 1 2 2 2 2 1 1 1 1 1 1 2 2 2 1 1 1 2 1\n",
            " 1 1 1 1 1 1 1 1 2 1 1 1 1 1 1 1 1 1 1 1 2 1 1 1 1 2 2 1 2 1 1 2 2 1 1 1 1\n",
            " 1 2 1 1 1 1 1 1 1 1 1 2 1 1 1 2 1 1 2 2 2 1 2 2 1 2 1 1 1 1 1 1 1 1 2 1 2\n",
            " 1 1 2 1 2 1 1 1 1 2 1 1 2 2 1 1 1 1 1 1 1 1 1 1 2 2 2 1 1 2 1 1 2 2 1 1 1\n",
            " 1 1 2 2 2 1 1 1 2 1 1 1 1 1 1 2 1 1 1 1 1 2 1 1 1 1 1 1 2 1 1 2 2 2 1 1 1\n",
            " 2 1 1 1 1 1 2 1 2 2 2 2 2 1 1 1 1 1 1 1 1 1 1 1 1 1 1 2 2 1 1 1 2 2 1 1 1\n",
            " 2 2 1 2 1 1 1 1 1 1 2 1 1 2 1 1 1 2 2 1 2 1 1 1 2 2 1 2 1 2 1 1 1 1 2 1 1\n",
            " 1 1 2 1 1 1 1 1 1 1 2 1 1 2 1 1 1 2 2 1 2 1 1 1 1 2 2 2 1 1 2 1 1 1 2 2 1\n",
            " 2 2 2 1 2 2 1 2 1 2 1 1 1 1 2 2 1 2 1 2 1 1 1 2 2 1 1 2 1 1 2 2 1 1 2 2 1\n",
            " 2 1 1 1 1 2 2 2 1 2 2 2 2 1 1 2 1 2 2 1 1 1 1 1 1 2 2 2 2 2 2 1 2 2 2 2 2\n",
            " 2 2 2 1 1 1 2 1 2 2 1 2 2 1 2 1 2 2 1 1 2 1 2 2 2 1 1 2 1 1 2 1 1 2 2 2 1\n",
            " 1 1 1 2 2 1 2 2 2 2 2 1 2 2 2 2 2 2 2 1 1 2 1 2 2 2 1 2 1 2 1 1 1 1 1 1 1\n",
            " 1 2 2 1 2 2 2 1 2 2 1 2 1 2 1 1 1 1 1 1 2 2 1 2 1 2 1 1 2 2 1 1 1 1 1 2 1\n",
            " 1]\n"
          ],
          "name": "stdout"
        }
      ]
    },
    {
      "cell_type": "code",
      "metadata": {
        "id": "z8gKVpaD62Bl"
      },
      "source": [
        "from sklearn.model_selection import train_test_split\n",
        "X_train, X_test, y_train, y_test = train_test_split(x, y, test_size = 0.25, random_state = 70)"
      ],
      "execution_count": 89,
      "outputs": []
    },
    {
      "cell_type": "code",
      "metadata": {
        "colab": {
          "base_uri": "https://localhost:8080/"
        },
        "id": "PcYujmpaYSUq",
        "outputId": "3cd5b161-0b1a-48ed-9310-48ad8c7917f8"
      },
      "source": [
        "y_test.shape"
      ],
      "execution_count": 90,
      "outputs": [
        {
          "output_type": "execute_result",
          "data": {
            "text/plain": [
              "(250,)"
            ]
          },
          "metadata": {
            "tags": []
          },
          "execution_count": 90
        }
      ]
    },
    {
      "cell_type": "code",
      "metadata": {
        "colab": {
          "base_uri": "https://localhost:8080/"
        },
        "id": "aqiuQood64gW",
        "outputId": "7c1857e9-4653-479f-a607-3e06c1decbc9"
      },
      "source": [
        "print (X_train)"
      ],
      "execution_count": 91,
      "outputs": [
        {
          "output_type": "stream",
          "text": [
            "[[ 2016 15485]\n",
            " [ 2017 27500]\n",
            " [ 2016 19498]\n",
            " ...\n",
            " [ 2016 13500]\n",
            " [ 2019 27650]\n",
            " [ 2019 48000]]\n"
          ],
          "name": "stdout"
        }
      ]
    },
    {
      "cell_type": "code",
      "metadata": {
        "colab": {
          "base_uri": "https://localhost:8080/"
        },
        "id": "HEIonRGf67IE",
        "outputId": "418101fb-fd6e-4aaf-ae01-592a12fa54e8"
      },
      "source": [
        "print (X_test)"
      ],
      "execution_count": 92,
      "outputs": [
        {
          "output_type": "stream",
          "text": [
            "[[ 2016 14998]\n",
            " [ 2016 18498]\n",
            " [ 2017 15998]\n",
            " [ 2019 21898]\n",
            " [ 2016 29995]\n",
            " [ 2018 16995]\n",
            " [ 2019 49998]\n",
            " [ 2016 18998]\n",
            " [ 2020 27500]\n",
            " [ 2019 33898]\n",
            " [ 2018 28495]\n",
            " [ 2017 30000]\n",
            " [ 2015 17998]\n",
            " [ 2016 21498]\n",
            " [ 2016 12750]\n",
            " [ 2019 29898]\n",
            " [ 2018 16998]\n",
            " [ 2016 13798]\n",
            " [ 2016 20998]\n",
            " [ 2017 21800]\n",
            " [ 2014  9998]\n",
            " [ 2017 14250]\n",
            " [ 2017 19800]\n",
            " [ 2019 68898]\n",
            " [ 2017 21440]\n",
            " [ 2016 14250]\n",
            " [ 2016 16300]\n",
            " [ 2018 16900]\n",
            " [ 2019 48898]\n",
            " [ 2019 21998]\n",
            " [ 2019 64900]\n",
            " [ 2017 16998]\n",
            " [ 2015 15990]\n",
            " [ 2019 18998]\n",
            " [ 2019 19498]\n",
            " [ 2018 20998]\n",
            " [ 2017 14990]\n",
            " [ 2015 15500]\n",
            " [ 2016 19490]\n",
            " [ 2019 28500]\n",
            " [ 2019 21998]\n",
            " [ 2016 12498]\n",
            " [ 2018 15500]\n",
            " [ 2019 27898]\n",
            " [ 2019 27698]\n",
            " [ 2015 11679]\n",
            " [ 2019 26998]\n",
            " [ 2019 31898]\n",
            " [ 2016 19000]\n",
            " [ 2016 15500]\n",
            " [ 2019 27898]\n",
            " [ 2017 21998]\n",
            " [ 2018 16998]\n",
            " [ 2016 16450]\n",
            " [ 2017 13998]\n",
            " [ 2018 27798]\n",
            " [ 2015 13998]\n",
            " [ 2018 32000]\n",
            " [ 2019 33998]\n",
            " [ 2019 47898]\n",
            " [ 2017 17495]\n",
            " [ 2016 19998]\n",
            " [ 2019 27000]\n",
            " [ 2017 17998]\n",
            " [ 2017 25498]\n",
            " [ 2014 15000]\n",
            " [ 2016 11998]\n",
            " [ 2019 25898]\n",
            " [ 2015 17400]\n",
            " [ 2019 30898]\n",
            " [ 2017 19898]\n",
            " [ 2019 30000]\n",
            " [ 2017 23998]\n",
            " [ 2016 14400]\n",
            " [ 2016 13950]\n",
            " [ 2018 20000]\n",
            " [ 2016 13600]\n",
            " [ 2018 27990]\n",
            " [ 2013 10998]\n",
            " [ 2018 25990]\n",
            " [ 2017 21498]\n",
            " [ 2017 19998]\n",
            " [ 2018 36995]\n",
            " [ 2017 12450]\n",
            " [ 2018 14998]\n",
            " [ 2015 16450]\n",
            " [ 2017 11800]\n",
            " [ 2019 36500]\n",
            " [ 2016 17950]\n",
            " [ 2013  9965]\n",
            " [ 2019 32000]\n",
            " [ 2017 16900]\n",
            " [ 2017 11990]\n",
            " [ 2013 10998]\n",
            " [ 2017 16800]\n",
            " [ 2019 30998]\n",
            " [ 2017 19498]\n",
            " [ 2016 13400]\n",
            " [ 2016 17995]\n",
            " [ 2016 15500]\n",
            " [ 2014 10998]\n",
            " [ 2015 15195]\n",
            " [ 2017 14498]\n",
            " [ 2015 16500]\n",
            " [ 2016  9900]\n",
            " [ 2019 72990]\n",
            " [ 2014  9300]\n",
            " [ 2016 21000]\n",
            " [ 2016 18998]\n",
            " [ 2017 16498]\n",
            " [ 2019 58898]\n",
            " [ 2020 31998]\n",
            " [ 2019 31000]\n",
            " [ 2017 12750]\n",
            " [ 2017 21500]\n",
            " [ 2016 14298]\n",
            " [ 2015 18700]\n",
            " [ 2017 14000]\n",
            " [ 2017 14800]\n",
            " [ 2016 15498]\n",
            " [ 2016 16747]\n",
            " [ 2017 23500]\n",
            " [ 2014  9900]\n",
            " [ 2017 11200]\n",
            " [ 2017 22000]\n",
            " [ 2018 28998]\n",
            " [ 2018 20990]\n",
            " [ 2016 13700]\n",
            " [ 2019 19598]\n",
            " [ 2019 67500]\n",
            " [ 2017 15500]\n",
            " [ 2017 21514]\n",
            " [ 2019 26498]\n",
            " [ 2020 53000]\n",
            " [ 2013  8298]\n",
            " [ 2017 20898]\n",
            " [ 2018 21500]\n",
            " [ 2019 26498]\n",
            " [ 2017 22498]\n",
            " [ 2013  9985]\n",
            " [ 2015 17498]\n",
            " [ 2019 25000]\n",
            " [ 2018 19490]\n",
            " [ 2018 16998]\n",
            " [ 2017 20498]\n",
            " [ 2019 29898]\n",
            " [ 2019 29998]\n",
            " [ 2016 13998]\n",
            " [ 2019 25500]\n",
            " [ 2014 11999]\n",
            " [ 2013 10998]\n",
            " [ 2017 29498]\n",
            " [ 2019 32995]\n",
            " [ 2015 16480]\n",
            " [ 2019 21998]\n",
            " [ 2017 17000]\n",
            " [ 2019 35950]\n",
            " [ 2014 13990]\n",
            " [ 2015 14998]\n",
            " [ 2016 18498]\n",
            " [ 2014 11470]\n",
            " [ 2017 19990]\n",
            " [ 2018 16000]\n",
            " [ 2015 11950]\n",
            " [ 2017 14050]\n",
            " [ 2017 13995]\n",
            " [ 2016 17498]\n",
            " [ 2017 23998]\n",
            " [ 2019 34900]\n",
            " [ 2017 20500]\n",
            " [ 2018 27500]\n",
            " [ 2019 26498]\n",
            " [ 2017 19898]\n",
            " [ 2016 12700]\n",
            " [ 2019 47000]\n",
            " [ 2015 21498]\n",
            " [ 2015 23491]\n",
            " [ 2017 16498]\n",
            " [ 2018 27000]\n",
            " [ 2019 27498]\n",
            " [ 2016 34498]\n",
            " [ 2019 30900]\n",
            " [ 2015 15998]\n",
            " [ 2017 23000]\n",
            " [ 2014 14495]\n",
            " [ 2017 14998]\n",
            " [ 2016 17998]\n",
            " [ 2016 14000]\n",
            " [ 2019 28500]\n",
            " [ 2015 13498]\n",
            " [ 2019 16998]\n",
            " [ 2016 18797]\n",
            " [ 2019 27998]\n",
            " [ 2013 14498]\n",
            " [ 2017 21750]\n",
            " [ 2016 18650]\n",
            " [ 2018 21500]\n",
            " [ 2017 21498]\n",
            " [ 2015 15998]\n",
            " [ 2018 22000]\n",
            " [ 2020 50000]\n",
            " [ 2017 22998]\n",
            " [ 2016 14998]\n",
            " [ 2016 18490]\n",
            " [ 2016 13998]\n",
            " [ 2016 16998]\n",
            " [ 2016 11400]\n",
            " [ 2020 54998]\n",
            " [ 2019 22898]\n",
            " [ 2015 17000]\n",
            " [ 2016 19750]\n",
            " [ 2018 18498]\n",
            " [ 2017 18500]\n",
            " [ 2013  6998]\n",
            " [ 2015 10998]\n",
            " [ 2016 14000]\n",
            " [ 2017 13798]\n",
            " [ 2019 21998]\n",
            " [ 2016 16998]\n",
            " [ 2016 14498]\n",
            " [ 2019 19750]\n",
            " [ 2017 17998]\n",
            " [ 2017 18995]\n",
            " [ 2019 29000]\n",
            " [ 2017 12600]\n",
            " [ 2017 15000]\n",
            " [ 2019 21898]\n",
            " [ 2019 26498]\n",
            " [ 2013 12298]\n",
            " [ 2018 14998]\n",
            " [ 2018 21498]\n",
            " [ 2016 20500]\n",
            " [ 2016 14998]\n",
            " [ 2017 14498]\n",
            " [ 2017 38000]\n",
            " [ 2019 21998]\n",
            " [ 2018 24490]\n",
            " [ 2017 19047]\n",
            " [ 2015 13995]\n",
            " [ 2017 17410]\n",
            " [ 2018 21998]\n",
            " [ 2014 27995]\n",
            " [ 2019 27000]\n",
            " [ 2018 25995]\n",
            " [ 2015 16998]\n",
            " [ 2017 17498]\n",
            " [ 2015 18298]\n",
            " [ 2015 10900]\n",
            " [ 2019 22000]\n",
            " [ 2016 18998]]\n"
          ],
          "name": "stdout"
        }
      ]
    },
    {
      "cell_type": "code",
      "metadata": {
        "colab": {
          "base_uri": "https://localhost:8080/"
        },
        "id": "p6Ip5Wgb7At6",
        "outputId": "6fac6a8a-b1e3-4639-e2f9-f7c94c1e2539"
      },
      "source": [
        "print (y_train)"
      ],
      "execution_count": 93,
      "outputs": [
        {
          "output_type": "stream",
          "text": [
            "[1 2 1 1 1 1 1 2 2 2 1 2 1 1 1 1 2 2 1 2 1 1 2 1 2 2 2 1 2 1 1 2 1 2 2 1 2\n",
            " 1 1 1 1 2 2 1 2 2 2 1 1 2 1 2 1 1 1 1 1 2 1 2 1 1 2 1 2 2 2 1 2 1 1 1 2 1\n",
            " 1 1 2 1 2 1 1 2 1 2 2 1 1 1 1 2 1 2 1 2 1 2 2 1 2 2 1 1 2 2 1 2 1 1 2 2 1\n",
            " 1 1 1 1 2 1 2 1 2 1 1 2 2 2 2 2 1 1 2 2 1 2 2 2 1 2 1 1 1 2 1 1 1 2 1 1 1\n",
            " 1 2 2 2 2 1 1 1 1 2 1 1 1 1 1 1 1 2 1 1 1 1 2 1 2 2 1 1 2 2 1 1 2 1 2 2 1\n",
            " 2 2 2 2 1 2 2 1 2 1 2 2 2 2 2 1 1 1 2 1 2 2 1 2 2 1 2 1 2 2 1 1 2 2 2 2 2\n",
            " 2 2 2 2 1 1 2 1 1 2 2 1 2 2 2 2 1 1 1 2 1 1 1 1 1 1 1 1 1 1 1 1 1 2 2 1 2\n",
            " 2 1 1 2 1 2 2 1 2 2 1 1 2 2 2 2 1 1 2 2 1 1 1 2 1 1 1 1 2 2 2 1 1 1 2 1 2\n",
            " 1 2 1 1 1 1 1 2 1 1 1 2 2 2 1 1 2 1 2 1 1 1 1 2 2 1 1 1 1 1 2 1 1 2 1 1 2\n",
            " 1 1 1 1 1 1 1 2 2 2 2 1 1 1 1 2 2 1 1 1 1 1 1 2 1 1 1 2 1 1 1 2 2 1 2 2 2\n",
            " 2 1 1 2 1 1 1 2 1 2 1 2 2 2 1 2 2 2 1 1 2 2 2 2 2 1 2 1 1 1 1 1 2 2 2 2 2\n",
            " 1 1 1 2 2 2 1 1 1 1 1 1 1 1 2 2 2 2 1 2 1 2 2 1 2 2 1 1 1 1 1 1 2 1 2 1 2\n",
            " 2 2 1 1 2 1 1 1 1 1 1 2 1 1 2 2 2 1 1 1 1 1 1 2 1 1 1 1 2 1 1 2 1 1 2 2 1\n",
            " 2 1 1 1 1 2 1 1 2 1 2 2 2 1 1 1 1 1 1 2 1 2 2 1 2 1 2 1 1 1 2 2 2 2 1 1 1\n",
            " 1 2 1 1 1 1 1 2 1 2 1 1 2 1 1 1 2 2 1 2 1 2 2 2 2 1 1 2 2 1 1 1 1 2 2 2 2\n",
            " 2 2 1 2 1 1 2 1 1 2 1 1 1 1 2 2 2 1 1 1 2 1 1 2 1 2 1 1 1 1 1 2 2 1 1 2 2\n",
            " 2 1 1 1 2 2 1 1 2 2 1 1 2 2 2 2 1 1 1 2 2 1 2 2 1 1 1 1 1 1 2 1 2 1 1 1 1\n",
            " 2 2 1 1 2 1 2 2 1 1 1 1 2 1 2 2 1 1 2 1 2 2 2 1 2 2 2 2 1 2 1 2 2 2 2 2 2\n",
            " 1 2 1 1 1 1 1 1 1 2 2 1 2 1 1 1 1 1 1 1 2 2 1 1 2 2 1 2 1 2 1 2 2 1 2 2 2\n",
            " 1 1 2 2 1 2 2 1 2 1 1 1 2 1 2 2 2 2 2 1 1 2 1 2 2 2 2 2 2 1 1 1 1 2 2 2 1\n",
            " 1 2 2 2 2 1 1 1 1 2]\n"
          ],
          "name": "stdout"
        }
      ]
    },
    {
      "cell_type": "code",
      "metadata": {
        "colab": {
          "base_uri": "https://localhost:8080/"
        },
        "id": "VdjOmEeT7ERY",
        "outputId": "2ce78289-876d-4eac-cdce-0b699da822f9"
      },
      "source": [
        "print (y_test)"
      ],
      "execution_count": 94,
      "outputs": [
        {
          "output_type": "stream",
          "text": [
            "[1 1 2 1 1 2 1 1 1 1 1 2 2 2 2 1 1 1 1 2 1 1 1 1 2 2 1 1 2 1 1 1 1 2 1 1 1\n",
            " 1 2 1 1 2 2 1 2 2 1 1 1 1 1 2 1 2 1 1 1 2 1 1 1 1 1 1 1 2 1 1 1 1 2 1 1 2\n",
            " 1 1 1 2 1 2 1 1 1 1 2 2 2 2 1 1 2 2 1 1 1 1 2 2 2 1 1 2 1 1 2 2 2 1 1 1 1\n",
            " 1 1 1 1 1 1 1 2 1 1 1 1 1 1 2 1 2 2 1 1 1 1 1 2 1 2 2 2 2 2 2 1 2 2 1 2 2\n",
            " 2 1 2 1 1 1 2 1 1 1 1 1 1 1 1 2 1 2 1 1 1 1 1 1 1 2 2 2 2 1 1 1 2 1 2 1 2\n",
            " 1 1 1 2 1 2 1 2 2 2 1 1 2 1 2 2 2 1 2 2 1 2 1 2 1 2 1 2 1 1 2 2 2 2 2 1 1\n",
            " 1 1 1 2 1 2 1 1 1 1 2 2 2 2 1 1 1 1 2 1 1 2 1 1 2 1 2 2]\n"
          ],
          "name": "stdout"
        }
      ]
    },
    {
      "cell_type": "code",
      "metadata": {
        "id": "4pXeibJA7HGj"
      },
      "source": [
        "from sklearn.preprocessing import StandardScaler\n",
        "sc = StandardScaler()\n",
        "X_train = sc.fit_transform(X_train)\n",
        "X_test = sc.transform(X_test)"
      ],
      "execution_count": 95,
      "outputs": []
    },
    {
      "cell_type": "code",
      "metadata": {
        "colab": {
          "base_uri": "https://localhost:8080/"
        },
        "id": "ED4YPk2UZxeZ",
        "outputId": "03d10802-19ca-44d0-fd57-67821f0ca6c7"
      },
      "source": [
        "print (X_train)"
      ],
      "execution_count": 96,
      "outputs": [
        {
          "output_type": "stream",
          "text": [
            "[[-0.62859442 -0.60360424]\n",
            " [-0.0501333   0.5111316 ]\n",
            " [-0.62859442 -0.23128339]\n",
            " ...\n",
            " [-0.62859442 -0.78776992]\n",
            " [ 1.10678895  0.52504841]\n",
            " [ 1.10678895  2.41309454]]\n"
          ],
          "name": "stdout"
        }
      ]
    },
    {
      "cell_type": "code",
      "metadata": {
        "colab": {
          "base_uri": "https://localhost:8080/"
        },
        "id": "rmaiVHUVZ0FS",
        "outputId": "21e2c702-14b9-441d-f3b2-00096c019086"
      },
      "source": [
        "print (X_test)"
      ],
      "execution_count": 97,
      "outputs": [
        {
          "output_type": "stream",
          "text": [
            "[[-6.28594422e-01 -6.48787455e-01]\n",
            " [-6.28594422e-01 -3.24062074e-01]\n",
            " [-5.01332974e-02 -5.56008774e-01]\n",
            " [ 1.10678895e+00 -8.61456229e-03]\n",
            " [-6.28594422e-01  7.42614410e-01]\n",
            " [ 5.28327827e-01 -4.63508430e-01]\n",
            " [ 1.10678895e+00  2.59846635e+00]\n",
            " [-6.28594422e-01 -2.77672734e-01]\n",
            " [ 1.68525008e+00  5.11131603e-01]\n",
            " [ 1.10678895e+00  1.10472960e+00]\n",
            " [ 5.28327827e-01  6.03446390e-01]\n",
            " [-5.01332974e-02  7.43078303e-01]\n",
            " [-1.20705555e+00 -3.70451414e-01]\n",
            " [-6.28594422e-01 -4.57260343e-02]\n",
            " [-6.28594422e-01 -8.57353927e-01]\n",
            " [ 1.10678895e+00  7.33614878e-01]\n",
            " [ 5.28327827e-01 -4.63230094e-01]\n",
            " [-6.28594422e-01 -7.60121871e-01]\n",
            " [-6.28594422e-01 -9.21153743e-02]\n",
            " [-5.01332974e-02 -1.77068729e-02]\n",
            " [-1.78551667e+00 -1.11268085e+00]\n",
            " [-5.01332974e-02 -7.18185907e-01]\n",
            " [-5.01332974e-02 -2.03264233e-01]\n",
            " [ 1.10678895e+00  4.35198340e+00]\n",
            " [-5.01332974e-02 -5.11071977e-02]\n",
            " [-6.28594422e-01 -7.18185907e-01]\n",
            " [-6.28594422e-01 -5.27989613e-01]\n",
            " [ 5.28327827e-01 -4.72322405e-01]\n",
            " [ 1.10678895e+00  2.49640980e+00]\n",
            " [ 1.10678895e+00  6.63305710e-04]\n",
            " [ 1.10678895e+00  3.98105424e+00]\n",
            " [-5.01332974e-02 -4.63230094e-01]\n",
            " [-1.20705555e+00 -5.56751004e-01]\n",
            " [ 1.10678895e+00 -2.77672734e-01]\n",
            " [ 1.10678895e+00 -2.31283394e-01]\n",
            " [ 5.28327827e-01 -9.21153743e-02]\n",
            " [-5.01332974e-02 -6.49529684e-01]\n",
            " [-1.20705555e+00 -6.02212557e-01]\n",
            " [-6.28594422e-01 -2.32025624e-01]\n",
            " [ 1.10678895e+00  6.03910283e-01]\n",
            " [ 1.10678895e+00  6.63305710e-04]\n",
            " [-6.28594422e-01 -8.80734155e-01]\n",
            " [ 5.28327827e-01 -6.02212557e-01]\n",
            " [ 1.10678895e+00  5.48057518e-01]\n",
            " [ 1.10678895e+00  5.29501782e-01]\n",
            " [-1.20705555e+00 -9.56719894e-01]\n",
            " [ 1.10678895e+00  4.64556706e-01]\n",
            " [ 1.10678895e+00  9.19172238e-01]\n",
            " [-6.28594422e-01 -2.77487177e-01]\n",
            " [-6.28594422e-01 -6.02212557e-01]\n",
            " [ 1.10678895e+00  5.48057518e-01]\n",
            " [-5.01332974e-02  6.63305710e-04]\n",
            " [ 5.28327827e-01 -4.63230094e-01]\n",
            " [-6.28594422e-01 -5.14072811e-01]\n",
            " [-5.01332974e-02 -7.41566135e-01]\n",
            " [ 5.28327827e-01  5.38779650e-01]\n",
            " [-1.20705555e+00 -7.41566135e-01]\n",
            " [ 5.28327827e-01  9.28635663e-01]\n",
            " [ 1.10678895e+00  1.11400747e+00]\n",
            " [ 1.10678895e+00  2.40363112e+00]\n",
            " [-5.01332974e-02 -4.17119090e-01]\n",
            " [-6.28594422e-01 -1.84894054e-01]\n",
            " [ 1.10678895e+00  4.64742263e-01]\n",
            " [-5.01332974e-02 -3.70451414e-01]\n",
            " [-5.01332974e-02  3.25388686e-01]\n",
            " [-1.78551667e+00 -6.48601897e-01]\n",
            " [-6.28594422e-01 -9.27123495e-01]\n",
            " [ 1.10678895e+00  3.62500158e-01]\n",
            " [-1.20705555e+00 -4.25933065e-01]\n",
            " [ 1.10678895e+00  8.26393558e-01]\n",
            " [-5.01332974e-02 -1.94171922e-01]\n",
            " [ 1.10678895e+00  7.43078303e-01]\n",
            " [-5.01332974e-02  1.86220666e-01]\n",
            " [-6.28594422e-01 -7.04269105e-01]\n",
            " [-6.28594422e-01 -7.46019511e-01]\n",
            " [ 5.28327827e-01 -1.84708497e-01]\n",
            " [-6.28594422e-01 -7.78492049e-01]\n",
            " [ 5.28327827e-01  5.56593156e-01]\n",
            " [-2.36397779e+00 -1.01990217e+00]\n",
            " [ 5.28327827e-01  3.71035796e-01]\n",
            " [-5.01332974e-02 -4.57260343e-02]\n",
            " [-5.01332974e-02 -1.84894054e-01]\n",
            " [ 5.28327827e-01  1.39206517e+00]\n",
            " [-5.01332974e-02 -8.85187531e-01]\n",
            " [ 5.28327827e-01 -6.48787455e-01]\n",
            " [-1.20705555e+00 -5.14072811e-01]\n",
            " [-5.01332974e-02 -9.45493673e-01]\n",
            " [ 1.10678895e+00  1.34613972e+00]\n",
            " [-6.28594422e-01 -3.74904791e-01]\n",
            " [-2.36397779e+00 -1.11574255e+00]\n",
            " [ 1.10678895e+00  9.28635663e-01]\n",
            " [-5.01332974e-02 -4.72322405e-01]\n",
            " [-5.01332974e-02 -9.27865724e-01]\n",
            " [-2.36397779e+00 -1.01990217e+00]\n",
            " [-5.01332974e-02 -4.81600273e-01]\n",
            " [ 1.10678895e+00  8.35671426e-01]\n",
            " [-5.01332974e-02 -2.31283394e-01]\n",
            " [-6.28594422e-01 -7.97047785e-01]\n",
            " [-6.28594422e-01 -3.70729750e-01]\n",
            " [-6.28594422e-01 -6.02212557e-01]\n",
            " [-1.78551667e+00 -1.01990217e+00]\n",
            " [-1.20705555e+00 -6.30510055e-01]\n",
            " [-5.01332974e-02 -6.95176795e-01]\n",
            " [-1.20705555e+00 -5.09433877e-01]\n",
            " [-6.28594422e-01 -1.12177317e+00]\n",
            " [ 1.10678895e+00  4.73163376e+00]\n",
            " [-1.78551667e+00 -1.17744037e+00]\n",
            " [-6.28594422e-01 -9.19298170e-02]\n",
            " [-6.28594422e-01 -2.77672734e-01]\n",
            " [-5.01332974e-02 -5.09619434e-01]\n",
            " [ 1.10678895e+00  3.42419660e+00]\n",
            " [ 1.68525008e+00  9.28450106e-01]\n",
            " [ 1.10678895e+00  8.35856983e-01]\n",
            " [-5.01332974e-02 -8.57353927e-01]\n",
            " [-5.01332974e-02 -4.55404769e-02]\n",
            " [-6.28594422e-01 -7.13732531e-01]\n",
            " [-1.20705555e+00 -3.05320781e-01]\n",
            " [-5.01332974e-02 -7.41380577e-01]\n",
            " [-5.01332974e-02 -6.67157633e-01]\n",
            " [-6.28594422e-01 -6.02398115e-01]\n",
            " [-6.28594422e-01 -4.86517543e-01]\n",
            " [-5.01332974e-02  1.40016883e-01]\n",
            " [-1.78551667e+00 -1.12177317e+00]\n",
            " [-5.01332974e-02 -1.00116088e+00]\n",
            " [-5.01332974e-02  8.48863070e-04]\n",
            " [ 5.28327827e-01  6.50114066e-01]\n",
            " [ 5.28327827e-01 -9.28576038e-02]\n",
            " [-6.28594422e-01 -7.69214181e-01]\n",
            " [ 1.10678895e+00 -2.22005526e-01]\n",
            " [ 1.10678895e+00  4.22227880e+00]\n",
            " [-5.01332974e-02 -6.02212557e-01]\n",
            " [-5.01332974e-02 -4.42415754e-02]\n",
            " [ 1.10678895e+00  4.18167366e-01]\n",
            " [ 1.68525008e+00  2.87698794e+00]\n",
            " [-2.36397779e+00 -1.27040461e+00]\n",
            " [-5.01332974e-02 -1.01393242e-01]\n",
            " [ 5.28327827e-01 -4.55404769e-02]\n",
            " [ 1.10678895e+00  4.18167366e-01]\n",
            " [-5.01332974e-02  4.70526457e-02]\n",
            " [-2.36397779e+00 -1.11388698e+00]\n",
            " [-1.20705555e+00 -4.16840754e-01]\n",
            " [ 1.10678895e+00  2.79184903e-01]\n",
            " [ 5.28327827e-01 -2.32025624e-01]\n",
            " [ 5.28327827e-01 -4.63230094e-01]\n",
            " [-5.01332974e-02 -1.38504714e-01]\n",
            " [ 1.10678895e+00  7.33614878e-01]\n",
            " [ 1.10678895e+00  7.42892746e-01]\n",
            " [-6.28594422e-01 -7.41566135e-01]\n",
            " [ 1.10678895e+00  3.25574243e-01]\n",
            " [-1.78551667e+00 -9.27030716e-01]\n",
            " [-2.36397779e+00 -1.01990217e+00]\n",
            " [-5.01332974e-02  6.96503406e-01]\n",
            " [ 1.10678895e+00  1.02095045e+00]\n",
            " [-1.20705555e+00 -5.11289451e-01]\n",
            " [ 1.10678895e+00  6.63305710e-04]\n",
            " [-5.01332974e-02 -4.63044537e-01]\n",
            " [ 1.10678895e+00  1.29511145e+00]\n",
            " [-1.78551667e+00 -7.42308364e-01]\n",
            " [-1.20705555e+00 -6.48787455e-01]\n",
            " [-6.28594422e-01 -3.24062074e-01]\n",
            " [-1.78551667e+00 -9.76110638e-01]\n",
            " [-5.01332974e-02 -1.85636284e-01]\n",
            " [ 5.28327827e-01 -5.55823217e-01]\n",
            " [-1.20705555e+00 -9.31576871e-01]\n",
            " [-5.01332974e-02 -7.36741643e-01]\n",
            " [-5.01332974e-02 -7.41844471e-01]\n",
            " [-6.28594422e-01 -4.16840754e-01]\n",
            " [-5.01332974e-02  1.86220666e-01]\n",
            " [ 1.10678895e+00  1.19769384e+00]\n",
            " [-5.01332974e-02 -1.38319157e-01]\n",
            " [ 5.28327827e-01  5.11131603e-01]\n",
            " [ 1.10678895e+00  4.18167366e-01]\n",
            " [-5.01332974e-02 -1.94171922e-01]\n",
            " [-6.28594422e-01 -8.61992861e-01]\n",
            " [ 1.10678895e+00  2.32031586e+00]\n",
            " [-1.20705555e+00 -4.57260343e-02]\n",
            " [-1.20705555e+00  1.39181875e-01]\n",
            " [-5.01332974e-02 -5.09619434e-01]\n",
            " [ 5.28327827e-01  4.64742263e-01]\n",
            " [ 1.10678895e+00  5.10946046e-01]\n",
            " [-6.28594422e-01  1.16039681e+00]\n",
            " [ 1.10678895e+00  8.26579115e-01]\n",
            " [-1.20705555e+00 -5.56008774e-01]\n",
            " [-5.01332974e-02  9.36275431e-02]\n",
            " [-1.78551667e+00 -6.95455131e-01]\n",
            " [-5.01332974e-02 -6.48787455e-01]\n",
            " [-6.28594422e-01 -3.70451414e-01]\n",
            " [-6.28594422e-01 -7.41380577e-01]\n",
            " [ 1.10678895e+00  6.03910283e-01]\n",
            " [-1.20705555e+00 -7.87955475e-01]\n",
            " [ 1.10678895e+00 -4.63230094e-01]\n",
            " [-6.28594422e-01 -2.96321249e-01]\n",
            " [ 1.10678895e+00  5.57335386e-01]\n",
            " [-2.36397779e+00 -6.95176795e-01]\n",
            " [-5.01332974e-02 -2.23458069e-02]\n",
            " [-6.28594422e-01 -3.09959715e-01]\n",
            " [ 5.28327827e-01 -4.55404769e-02]\n",
            " [-5.01332974e-02 -4.57260343e-02]\n",
            " [-1.20705555e+00 -5.56008774e-01]\n",
            " [ 5.28327827e-01  8.48863070e-04]\n",
            " [ 1.68525008e+00  2.59865190e+00]\n",
            " [-5.01332974e-02  9.34419857e-02]\n",
            " [-6.28594422e-01 -6.48787455e-01]\n",
            " [-6.28594422e-01 -3.24804304e-01]\n",
            " [-6.28594422e-01 -7.41566135e-01]\n",
            " [-6.28594422e-01 -4.63230094e-01]\n",
            " [-6.28594422e-01 -9.82605145e-01]\n",
            " [ 1.68525008e+00  3.06235975e+00]\n",
            " [ 1.10678895e+00  8.41641177e-02]\n",
            " [-1.20705555e+00 -4.63044537e-01]\n",
            " [-6.28594422e-01 -2.07903167e-01]\n",
            " [ 5.28327827e-01 -3.24062074e-01]\n",
            " [-5.01332974e-02 -3.23876517e-01]\n",
            " [-2.36397779e+00 -1.39101689e+00]\n",
            " [-1.20705555e+00 -1.01990217e+00]\n",
            " [-6.28594422e-01 -7.41380577e-01]\n",
            " [-5.01332974e-02 -7.60121871e-01]\n",
            " [ 1.10678895e+00  6.63305710e-04]\n",
            " [-6.28594422e-01 -4.63230094e-01]\n",
            " [-6.28594422e-01 -6.95176795e-01]\n",
            " [ 1.10678895e+00 -2.07903167e-01]\n",
            " [-5.01332974e-02 -3.70451414e-01]\n",
            " [-5.01332974e-02 -2.77951070e-01]\n",
            " [ 1.10678895e+00  6.50299623e-01]\n",
            " [-5.01332974e-02 -8.71270729e-01]\n",
            " [-5.01332974e-02 -6.48601897e-01]\n",
            " [ 1.10678895e+00 -8.61456229e-03]\n",
            " [ 1.10678895e+00  4.18167366e-01]\n",
            " [-2.36397779e+00 -8.99289891e-01]\n",
            " [ 5.28327827e-01 -6.48787455e-01]\n",
            " [ 5.28327827e-01 -4.57260343e-02]\n",
            " [-6.28594422e-01 -1.38319157e-01]\n",
            " [-6.28594422e-01 -6.48787455e-01]\n",
            " [-5.01332974e-02 -6.95176795e-01]\n",
            " [-5.01332974e-02  1.48530774e+00]\n",
            " [ 1.10678895e+00  6.63305710e-04]\n",
            " [ 5.28327827e-01  2.31867776e-01]\n",
            " [-5.01332974e-02 -2.73126579e-01]\n",
            " [-1.20705555e+00 -7.41844471e-01]\n",
            " [-5.01332974e-02 -4.25005278e-01]\n",
            " [ 5.28327827e-01  6.63305710e-04]\n",
            " [-1.78551667e+00  5.57057050e-01]\n",
            " [ 1.10678895e+00  4.64742263e-01]\n",
            " [ 5.28327827e-01  3.71499690e-01]\n",
            " [-1.20705555e+00 -4.63230094e-01]\n",
            " [-5.01332974e-02 -4.16840754e-01]\n",
            " [-1.20705555e+00 -3.42617810e-01]\n",
            " [-1.20705555e+00 -1.02899449e+00]\n",
            " [ 1.10678895e+00  8.48863070e-04]\n",
            " [-6.28594422e-01 -2.77672734e-01]]\n"
          ],
          "name": "stdout"
        }
      ]
    },
    {
      "cell_type": "code",
      "metadata": {
        "colab": {
          "base_uri": "https://localhost:8080/"
        },
        "id": "zlrDRdNTZ2rS",
        "outputId": "687c6033-324b-459c-e8c0-12b72c9e7fa9"
      },
      "source": [
        "from sklearn.neighbors import KNeighborsClassifier\n",
        "classifier = KNeighborsClassifier(n_neighbors = 5, metric = 'minkowski', p = 2)\n",
        "classifier.fit(X_train, y_train)"
      ],
      "execution_count": 98,
      "outputs": [
        {
          "output_type": "execute_result",
          "data": {
            "text/plain": [
              "KNeighborsClassifier(algorithm='auto', leaf_size=30, metric='minkowski',\n",
              "                     metric_params=None, n_jobs=None, n_neighbors=5, p=2,\n",
              "                     weights='uniform')"
            ]
          },
          "metadata": {
            "tags": []
          },
          "execution_count": 98
        }
      ]
    },
    {
      "cell_type": "code",
      "metadata": {
        "id": "sV6VHx__Z6kN"
      },
      "source": [
        "y_pred = classifier.predict(X_test)"
      ],
      "execution_count": 99,
      "outputs": []
    },
    {
      "cell_type": "code",
      "metadata": {
        "colab": {
          "base_uri": "https://localhost:8080/"
        },
        "id": "0_tMF7CxZ9Hm",
        "outputId": "3ff3449f-7b73-4b85-bfe2-63dbebe1f40b"
      },
      "source": [
        "from sklearn.metrics import confusion_matrix\n",
        "tahun = confusion_matrix(y_test, y_pred)\n",
        "print(tahun)"
      ],
      "execution_count": 100,
      "outputs": [
        {
          "output_type": "stream",
          "text": [
            "[[93 62]\n",
            " [54 41]]\n"
          ],
          "name": "stdout"
        }
      ]
    },
    {
      "cell_type": "code",
      "metadata": {
        "colab": {
          "base_uri": "https://localhost:8080/",
          "height": 350
        },
        "id": "6qn0DFznZ_dV",
        "outputId": "1480a2d8-3d4a-48cc-9c0a-bbd779cb822c"
      },
      "source": [
        "from matplotlib.colors import ListedColormap\n",
        "X_set, y_set = X_train, y_train\n",
        "X1, X2 = np.meshgrid(np.arange(start = X_set[:, 0].min() - 1, stop = X_set[:, 0].max() + 1, step = 0.01),\n",
        "                     np.arange(start = X_set[:, 1].min() - 1, stop = X_set[:, 1].max() + 1, step = 0.01))\n",
        "plt.contourf(X1, X2, classifier.predict(np.array([X1.ravel(), X2.ravel()]).T).reshape(X1.shape), \n",
        "             alpha = 0.75, cmap = ListedColormap(('red','green')))\n",
        "plt.xlim(X1.min(), X1.max())\n",
        "plt.ylim(X2.min(), X2.max())\n",
        "for i, j in enumerate(np.unique(y_set)):\n",
        "  plt.scatter(X_set[y_set == j, 0], X_set[y_set == j, 1], c = ListedColormap(('red','blue'))(i), label = j)\n",
        "plt.title('K-NN (Training set)')\n",
        "plt.xlabel('Tahun')\n",
        "plt.ylabel('Estimasi Harga Mobil')\n",
        "plt.legend()\n",
        "plt.show()"
      ],
      "execution_count": 101,
      "outputs": [
        {
          "output_type": "stream",
          "text": [
            "*c* argument looks like a single numeric RGB or RGBA sequence, which should be avoided as value-mapping will have precedence in case its length matches with *x* & *y*.  Please use the *color* keyword-argument or provide a 2-D array with a single row if you intend to specify the same RGB or RGBA value for all points.\n",
            "*c* argument looks like a single numeric RGB or RGBA sequence, which should be avoided as value-mapping will have precedence in case its length matches with *x* & *y*.  Please use the *color* keyword-argument or provide a 2-D array with a single row if you intend to specify the same RGB or RGBA value for all points.\n"
          ],
          "name": "stderr"
        },
        {
          "output_type": "display_data",
          "data": {
            "image/png": "[encoded data removed]",
            "text/plain": [
              "<Figure size 432x288 with 1 Axes>"
            ]
          },
          "metadata": {
            "tags": [],
            "needs_background": "light"
          }
        }
      ]
    },
    {
      "cell_type": "code",
      "metadata": {
        "colab": {
          "base_uri": "https://localhost:8080/",
          "height": 350
        },
        "id": "ZiJXmM9amJk4",
        "outputId": "7eee5e60-115a-4e48-d71f-4b1ea3dd20c4"
      },
      "source": [
        "from matplotlib.colors import ListedColormap\n",
        "X_set, y_set = X_test, y_test\n",
        "X1, X2 = np.meshgrid(np.arange(start = X_set[:, 0].min() - 1, stop = X_set[:, 0].max() + 1, step = 0.01),\n",
        "                     np.arange(start = X_set[:, 1].min() - 1, stop = X_set[:, 1].max() + 1, step = 0.01))\n",
        "plt.contourf(X1, X2, classifier.predict(np.array([X1.ravel(), X2.ravel()]).T).reshape(X1.shape), \n",
        "             alpha = 0.75, cmap = ListedColormap(('red','green')))\n",
        "plt.xlim(X1.min(), X1.max())\n",
        "plt.ylim(X2.min(), X2.max())\n",
        "for i, j in enumerate(np.unique(y_set)):\n",
        "  plt.scatter(X_set[y_set == j, 0], X_set[y_set == j, 1], c = ListedColormap(('red','blue'))(i), label = j)\n",
        "plt.title('K-NN (Testing set)')\n",
        "plt.xlabel('Tahun')\n",
        "plt.ylabel('Estimasi Harga Mobil')\n",
        "plt.legend()\n",
        "plt.show()"
      ],
      "execution_count": 102,
      "outputs": [
        {
          "output_type": "stream",
          "text": [
            "*c* argument looks like a single numeric RGB or RGBA sequence, which should be avoided as value-mapping will have precedence in case its length matches with *x* & *y*.  Please use the *color* keyword-argument or provide a 2-D array with a single row if you intend to specify the same RGB or RGBA value for all points.\n",
            "*c* argument looks like a single numeric RGB or RGBA sequence, which should be avoided as value-mapping will have precedence in case its length matches with *x* & *y*.  Please use the *color* keyword-argument or provide a 2-D array with a single row if you intend to specify the same RGB or RGBA value for all points.\n"
          ],
          "name": "stderr"
        },
        {
          "output_type": "display_data",
          "data": {
            "image/png": "[encoded data removed]",
            "text/plain": [
              "<Figure size 432x288 with 1 Axes>"
            ]
          },
          "metadata": {
            "tags": [],
            "needs_background": "light"
          }
        }
      ]
    }
  ]
}